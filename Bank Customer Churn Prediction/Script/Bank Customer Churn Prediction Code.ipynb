{
 "cells": [
  {
   "cell_type": "markdown",
   "id": "9ec8cd81-65ae-447e-9e49-032886d298bd",
   "metadata": {},
   "source": [
    "# Bank Customer Churn Prediction"
   ]
  },
  {
   "cell_type": "markdown",
   "id": "5281f8e2-aefc-43e1-9abe-6ae69deb8ab0",
   "metadata": {},
   "source": [
    "### Description "
   ]
  },
  {
   "cell_type": "markdown",
   "id": "d019868c-6c07-44f1-a6fd-19fbdcb91c42",
   "metadata": {},
   "source": [
    "In this project, I use supervised learning models to identify customers who are likely to churn in the future. Furthermore, we will analyze top factors that influence user retention."
   ]
  },
  {
   "cell_type": "markdown",
   "id": "5d13656c-6a9d-4cf4-bf2f-089e4903148a",
   "metadata": {},
   "source": [
    "### Contents"
   ]
  },
  {
   "cell_type": "markdown",
   "id": "1d224e2b-7b42-418c-8698-a388d78890c6",
   "metadata": {},
   "source": [
    "Part 1: Data Exploration <br>\n",
    "Part 2: Feature Preprocessing <br>\n",
    "Part 3: Model Training and Result Evaluation"
   ]
  },
  {
   "cell_type": "code",
   "execution_count": 1,
   "id": "b06b921d-6e08-4b6c-851a-cc1cb62aaba8",
   "metadata": {},
   "outputs": [],
   "source": [
    "# libraries\n",
    "#basic libraries\n",
    "import pandas as pd\n",
    "import numpy as np\n",
    "from pprint import pprint\n",
    "\n",
    "# plotting\n",
    "import matplotlib.pyplot as plt\n",
    "import seaborn as sns\n",
    "\n",
    "# encoding\n",
    "from sklearn.preprocessing import OneHotEncoder\n",
    "\n",
    "# scaling\n",
    "from sklearn.preprocessing import StandardScaler\n",
    "\n",
    "# modeling\n",
    "from sklearn.model_selection import train_test_split\n",
    "\n",
    "from sklearn.linear_model import LogisticRegression\n",
    "from sklearn.neighbors import KNeighborsClassifier\n",
    "from sklearn.ensemble import RandomForestClassifier\n",
    "\n",
    "from sklearn.model_selection import GridSearchCV\n",
    "from sklearn.model_selection import RandomizedSearchCV\n",
    "\n",
    "# evaluation\n",
    "from sklearn.metrics import precision_score\n",
    "from sklearn.metrics import recall_score\n",
    "from sklearn.metrics import accuracy_score\n",
    "\n",
    "from sklearn.metrics import roc_curve\n",
    "from sklearn.metrics import auc\n",
    "from sklearn import metrics\n",
    "\n",
    "# ploting\n",
    "import matplotlib.pyplot as plt\n",
    "\n",
    "\n"
   ]
  },
  {
   "cell_type": "markdown",
   "id": "8baeaadf-7965-41bb-9690-b18ee95834d5",
   "metadata": {},
   "source": [
    "### Part 1: Data Exploration "
   ]
  },
  {
   "cell_type": "markdown",
   "id": "ace8aa54-be39-4b02-a04e-2fbb511e9b6a",
   "metadata": {},
   "source": [
    "#### 1.1 Get bacis info about the dataset"
   ]
  },
  {
   "cell_type": "code",
   "execution_count": 2,
   "id": "6d5d06f9-0da2-4a91-98e5-e46a0a5190f6",
   "metadata": {},
   "outputs": [
    {
     "data": {
      "text/html": [
       "<div>\n",
       "<style scoped>\n",
       "    .dataframe tbody tr th:only-of-type {\n",
       "        vertical-align: middle;\n",
       "    }\n",
       "\n",
       "    .dataframe tbody tr th {\n",
       "        vertical-align: top;\n",
       "    }\n",
       "\n",
       "    .dataframe thead th {\n",
       "        text-align: right;\n",
       "    }\n",
       "</style>\n",
       "<table border=\"1\" class=\"dataframe\">\n",
       "  <thead>\n",
       "    <tr style=\"text-align: right;\">\n",
       "      <th></th>\n",
       "      <th>RowNumber</th>\n",
       "      <th>CustomerId</th>\n",
       "      <th>Surname</th>\n",
       "      <th>CreditScore</th>\n",
       "      <th>Geography</th>\n",
       "      <th>Gender</th>\n",
       "      <th>Age</th>\n",
       "      <th>Tenure</th>\n",
       "      <th>Balance</th>\n",
       "      <th>NumOfProducts</th>\n",
       "      <th>HasCrCard</th>\n",
       "      <th>IsActiveMember</th>\n",
       "      <th>EstimatedSalary</th>\n",
       "      <th>Exited</th>\n",
       "    </tr>\n",
       "  </thead>\n",
       "  <tbody>\n",
       "    <tr>\n",
       "      <th>0</th>\n",
       "      <td>1</td>\n",
       "      <td>15634602</td>\n",
       "      <td>Hargrave</td>\n",
       "      <td>619</td>\n",
       "      <td>France</td>\n",
       "      <td>Female</td>\n",
       "      <td>42</td>\n",
       "      <td>2</td>\n",
       "      <td>0.00</td>\n",
       "      <td>1</td>\n",
       "      <td>1</td>\n",
       "      <td>1</td>\n",
       "      <td>101348.88</td>\n",
       "      <td>1</td>\n",
       "    </tr>\n",
       "    <tr>\n",
       "      <th>1</th>\n",
       "      <td>2</td>\n",
       "      <td>15647311</td>\n",
       "      <td>Hill</td>\n",
       "      <td>608</td>\n",
       "      <td>Spain</td>\n",
       "      <td>Female</td>\n",
       "      <td>41</td>\n",
       "      <td>1</td>\n",
       "      <td>83807.86</td>\n",
       "      <td>1</td>\n",
       "      <td>0</td>\n",
       "      <td>1</td>\n",
       "      <td>112542.58</td>\n",
       "      <td>0</td>\n",
       "    </tr>\n",
       "    <tr>\n",
       "      <th>2</th>\n",
       "      <td>3</td>\n",
       "      <td>15619304</td>\n",
       "      <td>Onio</td>\n",
       "      <td>502</td>\n",
       "      <td>France</td>\n",
       "      <td>Female</td>\n",
       "      <td>42</td>\n",
       "      <td>8</td>\n",
       "      <td>159660.80</td>\n",
       "      <td>3</td>\n",
       "      <td>1</td>\n",
       "      <td>0</td>\n",
       "      <td>113931.57</td>\n",
       "      <td>1</td>\n",
       "    </tr>\n",
       "    <tr>\n",
       "      <th>3</th>\n",
       "      <td>4</td>\n",
       "      <td>15701354</td>\n",
       "      <td>Boni</td>\n",
       "      <td>699</td>\n",
       "      <td>France</td>\n",
       "      <td>Female</td>\n",
       "      <td>39</td>\n",
       "      <td>1</td>\n",
       "      <td>0.00</td>\n",
       "      <td>2</td>\n",
       "      <td>0</td>\n",
       "      <td>0</td>\n",
       "      <td>93826.63</td>\n",
       "      <td>0</td>\n",
       "    </tr>\n",
       "    <tr>\n",
       "      <th>4</th>\n",
       "      <td>5</td>\n",
       "      <td>15737888</td>\n",
       "      <td>Mitchell</td>\n",
       "      <td>850</td>\n",
       "      <td>Spain</td>\n",
       "      <td>Female</td>\n",
       "      <td>43</td>\n",
       "      <td>2</td>\n",
       "      <td>125510.82</td>\n",
       "      <td>1</td>\n",
       "      <td>1</td>\n",
       "      <td>1</td>\n",
       "      <td>79084.10</td>\n",
       "      <td>0</td>\n",
       "    </tr>\n",
       "  </tbody>\n",
       "</table>\n",
       "</div>"
      ],
      "text/plain": [
       "   RowNumber  CustomerId   Surname  CreditScore Geography  Gender  Age  \\\n",
       "0          1    15634602  Hargrave          619    France  Female   42   \n",
       "1          2    15647311      Hill          608     Spain  Female   41   \n",
       "2          3    15619304      Onio          502    France  Female   42   \n",
       "3          4    15701354      Boni          699    France  Female   39   \n",
       "4          5    15737888  Mitchell          850     Spain  Female   43   \n",
       "\n",
       "   Tenure    Balance  NumOfProducts  HasCrCard  IsActiveMember  \\\n",
       "0       2       0.00              1          1               1   \n",
       "1       1   83807.86              1          0               1   \n",
       "2       8  159660.80              3          1               0   \n",
       "3       1       0.00              2          0               0   \n",
       "4       2  125510.82              1          1               1   \n",
       "\n",
       "   EstimatedSalary  Exited  \n",
       "0        101348.88       1  \n",
       "1        112542.58       0  \n",
       "2        113931.57       1  \n",
       "3         93826.63       0  \n",
       "4         79084.10       0  "
      ]
     },
     "execution_count": 2,
     "metadata": {},
     "output_type": "execute_result"
    }
   ],
   "source": [
    "df = pd.read_csv('/Users/richardwang/Desktop/Projects/Bank Customer Churn Prediction/Data/bank_churn.csv')\n",
    "df.head()"
   ]
  },
  {
   "cell_type": "code",
   "execution_count": 3,
   "id": "3e08fa2b-e872-4d59-81fb-9681e81aa2a1",
   "metadata": {},
   "outputs": [
    {
     "name": "stdout",
     "output_type": "stream",
     "text": [
      "<class 'pandas.core.frame.DataFrame'>\n",
      "RangeIndex: 10000 entries, 0 to 9999\n",
      "Data columns (total 14 columns):\n",
      " #   Column           Non-Null Count  Dtype  \n",
      "---  ------           --------------  -----  \n",
      " 0   RowNumber        10000 non-null  int64  \n",
      " 1   CustomerId       10000 non-null  int64  \n",
      " 2   Surname          10000 non-null  object \n",
      " 3   CreditScore      10000 non-null  int64  \n",
      " 4   Geography        10000 non-null  object \n",
      " 5   Gender           10000 non-null  object \n",
      " 6   Age              10000 non-null  int64  \n",
      " 7   Tenure           10000 non-null  int64  \n",
      " 8   Balance          10000 non-null  float64\n",
      " 9   NumOfProducts    10000 non-null  int64  \n",
      " 10  HasCrCard        10000 non-null  int64  \n",
      " 11  IsActiveMember   10000 non-null  int64  \n",
      " 12  EstimatedSalary  10000 non-null  float64\n",
      " 13  Exited           10000 non-null  int64  \n",
      "dtypes: float64(2), int64(9), object(3)\n",
      "memory usage: 1.1+ MB\n"
     ]
    }
   ],
   "source": [
    "df.info()"
   ]
  },
  {
   "cell_type": "code",
   "execution_count": 4,
   "id": "1bc92b40-6ed2-41f7-aed0-9c92b7d603a1",
   "metadata": {},
   "outputs": [
    {
     "data": {
      "text/plain": [
       "RowNumber          10000\n",
       "CustomerId         10000\n",
       "Surname             2932\n",
       "CreditScore          460\n",
       "Geography              3\n",
       "Gender                 2\n",
       "Age                   70\n",
       "Tenure                11\n",
       "Balance             6382\n",
       "NumOfProducts          4\n",
       "HasCrCard              2\n",
       "IsActiveMember         2\n",
       "EstimatedSalary     9999\n",
       "Exited                 2\n",
       "dtype: int64"
      ]
     },
     "execution_count": 4,
     "metadata": {},
     "output_type": "execute_result"
    }
   ],
   "source": [
    "#check the unique values for each columns\n",
    "df.nunique()"
   ]
  },
  {
   "cell_type": "markdown",
   "id": "1ebc03ae-94ff-4b43-b361-089739743514",
   "metadata": {},
   "source": [
    "#### 1.2 Explore the features"
   ]
  },
  {
   "cell_type": "code",
   "execution_count": 5,
   "id": "6ad0236b-b96c-4c67-8d8c-c7d9fcd56c42",
   "metadata": {},
   "outputs": [
    {
     "data": {
      "text/plain": [
       "RowNumber          0\n",
       "CustomerId         0\n",
       "Surname            0\n",
       "CreditScore        0\n",
       "Geography          0\n",
       "Gender             0\n",
       "Age                0\n",
       "Tenure             0\n",
       "Balance            0\n",
       "NumOfProducts      0\n",
       "HasCrCard          0\n",
       "IsActiveMember     0\n",
       "EstimatedSalary    0\n",
       "Exited             0\n",
       "dtype: int64"
      ]
     },
     "execution_count": 5,
     "metadata": {},
     "output_type": "execute_result"
    }
   ],
   "source": [
    "# check missing values\n",
    "df.isnull().sum()"
   ]
  },
  {
   "cell_type": "markdown",
   "id": "679cafaa-3542-40cb-a938-abe5bc123a14",
   "metadata": {},
   "source": [
    "There are no missing values, so we dont have to worry about it in our modeling part."
   ]
  },
  {
   "cell_type": "code",
   "execution_count": 6,
   "id": "affcba87-f8f6-41c2-aecf-e5d3328c2f7e",
   "metadata": {},
   "outputs": [
    {
     "data": {
      "text/plain": [
       "Index(['RowNumber', 'CustomerId', 'Surname', 'CreditScore', 'Geography',\n",
       "       'Gender', 'Age', 'Tenure', 'Balance', 'NumOfProducts', 'HasCrCard',\n",
       "       'IsActiveMember', 'EstimatedSalary', 'Exited'],\n",
       "      dtype='object')"
      ]
     },
     "execution_count": 6,
     "metadata": {},
     "output_type": "execute_result"
    }
   ],
   "source": [
    "df.columns"
   ]
  },
  {
   "cell_type": "markdown",
   "id": "4b3ca127-2bde-4bbf-99af-39820b78d8c4",
   "metadata": {},
   "source": [
    "What we should focus on at first are: 'CreditScore', 'Age', 'Tenure', 'NumOfProducts','Balance', 'EstimatedSalary'."
   ]
  },
  {
   "cell_type": "code",
   "execution_count": 7,
   "id": "54d69108-f507-476b-94fb-93420e8cc87f",
   "metadata": {},
   "outputs": [
    {
     "data": {
      "text/html": [
       "<div>\n",
       "<style scoped>\n",
       "    .dataframe tbody tr th:only-of-type {\n",
       "        vertical-align: middle;\n",
       "    }\n",
       "\n",
       "    .dataframe tbody tr th {\n",
       "        vertical-align: top;\n",
       "    }\n",
       "\n",
       "    .dataframe thead th {\n",
       "        text-align: right;\n",
       "    }\n",
       "</style>\n",
       "<table border=\"1\" class=\"dataframe\">\n",
       "  <thead>\n",
       "    <tr style=\"text-align: right;\">\n",
       "      <th></th>\n",
       "      <th>CreditScore</th>\n",
       "      <th>Age</th>\n",
       "      <th>Tenure</th>\n",
       "      <th>NumOfProducts</th>\n",
       "      <th>Balance</th>\n",
       "      <th>EstimatedSalary</th>\n",
       "    </tr>\n",
       "  </thead>\n",
       "  <tbody>\n",
       "    <tr>\n",
       "      <th>count</th>\n",
       "      <td>10000.000000</td>\n",
       "      <td>10000.000000</td>\n",
       "      <td>10000.000000</td>\n",
       "      <td>10000.000000</td>\n",
       "      <td>10000.000000</td>\n",
       "      <td>10000.000000</td>\n",
       "    </tr>\n",
       "    <tr>\n",
       "      <th>mean</th>\n",
       "      <td>650.528800</td>\n",
       "      <td>38.921800</td>\n",
       "      <td>5.012800</td>\n",
       "      <td>1.530200</td>\n",
       "      <td>76485.889288</td>\n",
       "      <td>100090.239881</td>\n",
       "    </tr>\n",
       "    <tr>\n",
       "      <th>std</th>\n",
       "      <td>96.653299</td>\n",
       "      <td>10.487806</td>\n",
       "      <td>2.892174</td>\n",
       "      <td>0.581654</td>\n",
       "      <td>62397.405202</td>\n",
       "      <td>57510.492818</td>\n",
       "    </tr>\n",
       "    <tr>\n",
       "      <th>min</th>\n",
       "      <td>350.000000</td>\n",
       "      <td>18.000000</td>\n",
       "      <td>0.000000</td>\n",
       "      <td>1.000000</td>\n",
       "      <td>0.000000</td>\n",
       "      <td>11.580000</td>\n",
       "    </tr>\n",
       "    <tr>\n",
       "      <th>25%</th>\n",
       "      <td>584.000000</td>\n",
       "      <td>32.000000</td>\n",
       "      <td>3.000000</td>\n",
       "      <td>1.000000</td>\n",
       "      <td>0.000000</td>\n",
       "      <td>51002.110000</td>\n",
       "    </tr>\n",
       "    <tr>\n",
       "      <th>50%</th>\n",
       "      <td>652.000000</td>\n",
       "      <td>37.000000</td>\n",
       "      <td>5.000000</td>\n",
       "      <td>1.000000</td>\n",
       "      <td>97198.540000</td>\n",
       "      <td>100193.915000</td>\n",
       "    </tr>\n",
       "    <tr>\n",
       "      <th>75%</th>\n",
       "      <td>718.000000</td>\n",
       "      <td>44.000000</td>\n",
       "      <td>7.000000</td>\n",
       "      <td>2.000000</td>\n",
       "      <td>127644.240000</td>\n",
       "      <td>149388.247500</td>\n",
       "    </tr>\n",
       "    <tr>\n",
       "      <th>max</th>\n",
       "      <td>850.000000</td>\n",
       "      <td>92.000000</td>\n",
       "      <td>10.000000</td>\n",
       "      <td>4.000000</td>\n",
       "      <td>250898.090000</td>\n",
       "      <td>199992.480000</td>\n",
       "    </tr>\n",
       "  </tbody>\n",
       "</table>\n",
       "</div>"
      ],
      "text/plain": [
       "        CreditScore           Age        Tenure  NumOfProducts        Balance  \\\n",
       "count  10000.000000  10000.000000  10000.000000   10000.000000   10000.000000   \n",
       "mean     650.528800     38.921800      5.012800       1.530200   76485.889288   \n",
       "std       96.653299     10.487806      2.892174       0.581654   62397.405202   \n",
       "min      350.000000     18.000000      0.000000       1.000000       0.000000   \n",
       "25%      584.000000     32.000000      3.000000       1.000000       0.000000   \n",
       "50%      652.000000     37.000000      5.000000       1.000000   97198.540000   \n",
       "75%      718.000000     44.000000      7.000000       2.000000  127644.240000   \n",
       "max      850.000000     92.000000     10.000000       4.000000  250898.090000   \n",
       "\n",
       "       EstimatedSalary  \n",
       "count     10000.000000  \n",
       "mean     100090.239881  \n",
       "std       57510.492818  \n",
       "min          11.580000  \n",
       "25%       51002.110000  \n",
       "50%      100193.915000  \n",
       "75%      149388.247500  \n",
       "max      199992.480000  "
      ]
     },
     "execution_count": 7,
     "metadata": {},
     "output_type": "execute_result"
    }
   ],
   "source": [
    "#Explore the numerical variables\n",
    "#discrete: 'CreditScore', 'Age', 'Tenure', 'NumberOfProducts'\n",
    "#continuous: 'Balance', 'EstimatedSalary'\n",
    "df[['CreditScore', 'Age', 'Tenure', 'NumOfProducts','Balance', 'EstimatedSalary']].describe()"
   ]
  },
  {
   "cell_type": "code",
   "execution_count": 8,
   "id": "2b168adb-7c6a-46dd-b709-a9b8d7887592",
   "metadata": {},
   "outputs": [
    {
     "data": {
      "text/plain": [
       "<AxesSubplot:xlabel='Exited', ylabel='EstimatedSalary'>"
      ]
     },
     "execution_count": 8,
     "metadata": {},
     "output_type": "execute_result"
    },
    {
     "data": {
      "image/png": "[encoded data removed]",
      "text/plain": [
       "<Figure size 1440x720 with 6 Axes>"
      ]
     },
     "metadata": {
      "needs_background": "light"
     },
     "output_type": "display_data"
    }
   ],
   "source": [
    "#boxplot for numerical features\n",
    "fig,axss = plt.subplots(2,3, figsize = [20,10])\n",
    "sns.boxplot(x = 'Exited', y = 'CreditScore', data = df, ax = axss[0][0])\n",
    "sns.boxplot(x = 'Exited', y = 'Age', data = df, ax = axss[0][1])\n",
    "sns.boxplot(x = 'Exited', y = 'Tenure', data = df, ax = axss[0][2])\n",
    "sns.boxplot(x = 'Exited', y = 'NumOfProducts', data = df, ax = axss[1][0])\n",
    "sns.boxplot(x = 'Exited', y = 'Balance', data = df, ax = axss[1][1])\n",
    "sns.boxplot(x = 'Exited', y = 'EstimatedSalary', data = df, ax = axss[1][2])"
   ]
  },
  {
   "cell_type": "code",
   "execution_count": 9,
   "id": "67115a5a-4f9d-4f0e-aa63-00f66f68c374",
   "metadata": {},
   "outputs": [
    {
     "data": {
      "text/plain": [
       "<AxesSubplot:xlabel='Exited', ylabel='count'>"
      ]
     },
     "execution_count": 9,
     "metadata": {},
     "output_type": "execute_result"
    },
    {
     "data": {
      "image/png": "[encoded data removed]",
      "text/plain": [
       "<Figure size 1440x720 with 4 Axes>"
      ]
     },
     "metadata": {
      "needs_background": "light"
     },
     "output_type": "display_data"
    }
   ],
   "source": [
    "#Explore categorical features\n",
    "#'Geography', 'Gender', 'HasCrCard', 'IsActiveMember'\n",
    "fig,axss = plt.subplots(2, 2, figsize = [20, 10])\n",
    "sns.countplot(x = 'Exited', hue = 'Geography', data = df, ax = axss[0][0])\n",
    "sns.countplot(x = 'Exited', hue = 'Gender', data = df, ax = axss[0][1])\n",
    "sns.countplot(x = 'Exited', hue = 'HasCrCard', data = df, ax = axss[1][0])\n",
    "sns.countplot(x = 'Exited', hue = 'IsActiveMember', data = df, ax = axss[1][1])"
   ]
  },
  {
   "cell_type": "markdown",
   "id": "5e18b2c7-6955-42f3-ac4f-c861e3e111a9",
   "metadata": {},
   "source": [
    "### Part 2: Feature Preprocessing"
   ]
  },
  {
   "cell_type": "code",
   "execution_count": 10,
   "id": "ccfb33ee-74ec-4a03-a257-ff6258511ff9",
   "metadata": {},
   "outputs": [],
   "source": [
    "#Target Variable\n",
    "y = df['Exited']"
   ]
  },
  {
   "cell_type": "code",
   "execution_count": 11,
   "id": "e8e079af-fdb5-490f-abad-009665317e96",
   "metadata": {},
   "outputs": [
    {
     "data": {
      "text/html": [
       "<div>\n",
       "<style scoped>\n",
       "    .dataframe tbody tr th:only-of-type {\n",
       "        vertical-align: middle;\n",
       "    }\n",
       "\n",
       "    .dataframe tbody tr th {\n",
       "        vertical-align: top;\n",
       "    }\n",
       "\n",
       "    .dataframe thead th {\n",
       "        text-align: right;\n",
       "    }\n",
       "</style>\n",
       "<table border=\"1\" class=\"dataframe\">\n",
       "  <thead>\n",
       "    <tr style=\"text-align: right;\">\n",
       "      <th></th>\n",
       "      <th>CreditScore</th>\n",
       "      <th>Geography</th>\n",
       "      <th>Gender</th>\n",
       "      <th>Age</th>\n",
       "      <th>Tenure</th>\n",
       "      <th>Balance</th>\n",
       "      <th>NumOfProducts</th>\n",
       "      <th>HasCrCard</th>\n",
       "      <th>IsActiveMember</th>\n",
       "      <th>EstimatedSalary</th>\n",
       "    </tr>\n",
       "  </thead>\n",
       "  <tbody>\n",
       "    <tr>\n",
       "      <th>0</th>\n",
       "      <td>619</td>\n",
       "      <td>France</td>\n",
       "      <td>Female</td>\n",
       "      <td>42</td>\n",
       "      <td>2</td>\n",
       "      <td>0.00</td>\n",
       "      <td>1</td>\n",
       "      <td>1</td>\n",
       "      <td>1</td>\n",
       "      <td>101348.88</td>\n",
       "    </tr>\n",
       "    <tr>\n",
       "      <th>1</th>\n",
       "      <td>608</td>\n",
       "      <td>Spain</td>\n",
       "      <td>Female</td>\n",
       "      <td>41</td>\n",
       "      <td>1</td>\n",
       "      <td>83807.86</td>\n",
       "      <td>1</td>\n",
       "      <td>0</td>\n",
       "      <td>1</td>\n",
       "      <td>112542.58</td>\n",
       "    </tr>\n",
       "    <tr>\n",
       "      <th>2</th>\n",
       "      <td>502</td>\n",
       "      <td>France</td>\n",
       "      <td>Female</td>\n",
       "      <td>42</td>\n",
       "      <td>8</td>\n",
       "      <td>159660.80</td>\n",
       "      <td>3</td>\n",
       "      <td>1</td>\n",
       "      <td>0</td>\n",
       "      <td>113931.57</td>\n",
       "    </tr>\n",
       "    <tr>\n",
       "      <th>3</th>\n",
       "      <td>699</td>\n",
       "      <td>France</td>\n",
       "      <td>Female</td>\n",
       "      <td>39</td>\n",
       "      <td>1</td>\n",
       "      <td>0.00</td>\n",
       "      <td>2</td>\n",
       "      <td>0</td>\n",
       "      <td>0</td>\n",
       "      <td>93826.63</td>\n",
       "    </tr>\n",
       "    <tr>\n",
       "      <th>4</th>\n",
       "      <td>850</td>\n",
       "      <td>Spain</td>\n",
       "      <td>Female</td>\n",
       "      <td>43</td>\n",
       "      <td>2</td>\n",
       "      <td>125510.82</td>\n",
       "      <td>1</td>\n",
       "      <td>1</td>\n",
       "      <td>1</td>\n",
       "      <td>79084.10</td>\n",
       "    </tr>\n",
       "  </tbody>\n",
       "</table>\n",
       "</div>"
      ],
      "text/plain": [
       "   CreditScore Geography  Gender  Age  Tenure    Balance  NumOfProducts  \\\n",
       "0          619    France  Female   42       2       0.00              1   \n",
       "1          608     Spain  Female   41       1   83807.86              1   \n",
       "2          502    France  Female   42       8  159660.80              3   \n",
       "3          699    France  Female   39       1       0.00              2   \n",
       "4          850     Spain  Female   43       2  125510.82              1   \n",
       "\n",
       "   HasCrCard  IsActiveMember  EstimatedSalary  \n",
       "0          1               1        101348.88  \n",
       "1          0               1        112542.58  \n",
       "2          1               0        113931.57  \n",
       "3          0               0         93826.63  \n",
       "4          1               1         79084.10  "
      ]
     },
     "execution_count": 11,
     "metadata": {},
     "output_type": "execute_result"
    }
   ],
   "source": [
    "# Drop useless features\n",
    "cols_drop = ['RowNumber','CustomerId','Surname']\n",
    "X = df.drop(cols_drop + ['Exited'], axis = 1)\n",
    "X.head()"
   ]
  },
  {
   "cell_type": "code",
   "execution_count": 12,
   "id": "a6e394c0-bd39-407d-80f7-493f8138f986",
   "metadata": {},
   "outputs": [
    {
     "data": {
      "text/plain": [
       "CreditScore          int64\n",
       "Geography           object\n",
       "Gender              object\n",
       "Age                  int64\n",
       "Tenure               int64\n",
       "Balance            float64\n",
       "NumOfProducts        int64\n",
       "HasCrCard            int64\n",
       "IsActiveMember       int64\n",
       "EstimatedSalary    float64\n",
       "dtype: object"
      ]
     },
     "execution_count": 12,
     "metadata": {},
     "output_type": "execute_result"
    }
   ],
   "source": [
    "X.dtypes"
   ]
  },
  {
   "cell_type": "code",
   "execution_count": 13,
   "id": "7a491d68-a7f7-4dc0-b265-5cea00644d3e",
   "metadata": {},
   "outputs": [],
   "source": [
    "#spilt independent variables' columns into cat and num columns\n",
    "cat_cols = X.columns[X.dtypes == 'object']\n",
    "num_cols = X.columns[(X.dtypes == 'float64') | (X.dtypes == 'int64')]"
   ]
  },
  {
   "cell_type": "code",
   "execution_count": 14,
   "id": "21914c46-cb3d-4eb3-ae8b-d28227f69e9d",
   "metadata": {},
   "outputs": [
    {
     "data": {
      "text/plain": [
       "(Index(['Geography', 'Gender'], dtype='object'),\n",
       " Index(['CreditScore', 'Age', 'Tenure', 'Balance', 'NumOfProducts', 'HasCrCard',\n",
       "        'IsActiveMember', 'EstimatedSalary'],\n",
       "       dtype='object'))"
      ]
     },
     "execution_count": 14,
     "metadata": {},
     "output_type": "execute_result"
    }
   ],
   "source": [
    "cat_cols, num_cols"
   ]
  },
  {
   "cell_type": "markdown",
   "id": "048494c2-4ccd-405c-aa99-ab5bb662de85",
   "metadata": {},
   "source": [
    "#### 2.1 split the dataset"
   ]
  },
  {
   "cell_type": "code",
   "execution_count": 15,
   "id": "5d956dc3-476b-45c8-b051-92b0ab33545d",
   "metadata": {},
   "outputs": [],
   "source": [
    "#split the dataset into training and testing\n",
    "#I used stratified spliting is because there could be extreme cases happen\n",
    "\n",
    "X_train, X_test, y_train, y_test = train_test_split(X, y, test_size = 0.25, \n",
    "                                                    stratify = y, random_state = 677) # stratify"
   ]
  },
  {
   "cell_type": "code",
   "execution_count": 16,
   "id": "1dc59405-59b1-4ba0-bdb6-959632d021f9",
   "metadata": {},
   "outputs": [
    {
     "data": {
      "text/html": [
       "<div>\n",
       "<style scoped>\n",
       "    .dataframe tbody tr th:only-of-type {\n",
       "        vertical-align: middle;\n",
       "    }\n",
       "\n",
       "    .dataframe tbody tr th {\n",
       "        vertical-align: top;\n",
       "    }\n",
       "\n",
       "    .dataframe thead th {\n",
       "        text-align: right;\n",
       "    }\n",
       "</style>\n",
       "<table border=\"1\" class=\"dataframe\">\n",
       "  <thead>\n",
       "    <tr style=\"text-align: right;\">\n",
       "      <th></th>\n",
       "      <th>CreditScore</th>\n",
       "      <th>Geography</th>\n",
       "      <th>Gender</th>\n",
       "      <th>Age</th>\n",
       "      <th>Tenure</th>\n",
       "      <th>Balance</th>\n",
       "      <th>NumOfProducts</th>\n",
       "      <th>HasCrCard</th>\n",
       "      <th>IsActiveMember</th>\n",
       "      <th>EstimatedSalary</th>\n",
       "    </tr>\n",
       "  </thead>\n",
       "  <tbody>\n",
       "    <tr>\n",
       "      <th>6616</th>\n",
       "      <td>606</td>\n",
       "      <td>Spain</td>\n",
       "      <td>Male</td>\n",
       "      <td>33</td>\n",
       "      <td>8</td>\n",
       "      <td>0.00</td>\n",
       "      <td>2</td>\n",
       "      <td>1</td>\n",
       "      <td>1</td>\n",
       "      <td>63176.77</td>\n",
       "    </tr>\n",
       "    <tr>\n",
       "      <th>5921</th>\n",
       "      <td>508</td>\n",
       "      <td>Spain</td>\n",
       "      <td>Male</td>\n",
       "      <td>54</td>\n",
       "      <td>10</td>\n",
       "      <td>0.00</td>\n",
       "      <td>1</td>\n",
       "      <td>1</td>\n",
       "      <td>1</td>\n",
       "      <td>175749.36</td>\n",
       "    </tr>\n",
       "    <tr>\n",
       "      <th>7726</th>\n",
       "      <td>735</td>\n",
       "      <td>France</td>\n",
       "      <td>Male</td>\n",
       "      <td>55</td>\n",
       "      <td>6</td>\n",
       "      <td>134140.68</td>\n",
       "      <td>1</td>\n",
       "      <td>1</td>\n",
       "      <td>0</td>\n",
       "      <td>2267.88</td>\n",
       "    </tr>\n",
       "    <tr>\n",
       "      <th>3011</th>\n",
       "      <td>526</td>\n",
       "      <td>Spain</td>\n",
       "      <td>Male</td>\n",
       "      <td>30</td>\n",
       "      <td>8</td>\n",
       "      <td>0.00</td>\n",
       "      <td>1</td>\n",
       "      <td>1</td>\n",
       "      <td>0</td>\n",
       "      <td>36251.00</td>\n",
       "    </tr>\n",
       "    <tr>\n",
       "      <th>1828</th>\n",
       "      <td>547</td>\n",
       "      <td>Spain</td>\n",
       "      <td>Female</td>\n",
       "      <td>31</td>\n",
       "      <td>9</td>\n",
       "      <td>0.00</td>\n",
       "      <td>2</td>\n",
       "      <td>0</td>\n",
       "      <td>0</td>\n",
       "      <td>99294.22</td>\n",
       "    </tr>\n",
       "  </tbody>\n",
       "</table>\n",
       "</div>"
      ],
      "text/plain": [
       "      CreditScore Geography  Gender  Age  Tenure    Balance  NumOfProducts  \\\n",
       "6616          606     Spain    Male   33       8       0.00              2   \n",
       "5921          508     Spain    Male   54      10       0.00              1   \n",
       "7726          735    France    Male   55       6  134140.68              1   \n",
       "3011          526     Spain    Male   30       8       0.00              1   \n",
       "1828          547     Spain  Female   31       9       0.00              2   \n",
       "\n",
       "      HasCrCard  IsActiveMember  EstimatedSalary  \n",
       "6616          1               1         63176.77  \n",
       "5921          1               1        175749.36  \n",
       "7726          1               0          2267.88  \n",
       "3011          1               0         36251.00  \n",
       "1828          0               0         99294.22  "
      ]
     },
     "execution_count": 16,
     "metadata": {},
     "output_type": "execute_result"
    }
   ],
   "source": [
    "X_train.head()"
   ]
  },
  {
   "cell_type": "markdown",
   "id": "c35634c8-c7d8-4e4c-b046-4a5049a17add",
   "metadata": {},
   "source": [
    "#### 2.2 encode the categorical variables"
   ]
  },
  {
   "cell_type": "code",
   "execution_count": 17,
   "id": "1e7e9b06-b5ec-441b-81f6-562d408e8d81",
   "metadata": {},
   "outputs": [],
   "source": [
    "# I used one hot encoding for the Geography variable\n",
    "#define function for ohe part\n",
    "def OneHotEncoding(df, encoder, categories):\n",
    "    transformed = pd.DataFrame(enc.fit_transform(df[categories]).toarray(), columns=enc.get_feature_names_out(categories))\n",
    "    return pd.concat([df.reset_index(drop=True), transformed], axis=1).drop(categories, axis=1)\n",
    "\n",
    "categories = ['Geography']\n",
    "enc = OneHotEncoder()\n",
    "\n",
    "X_train = OneHotEncoding(X_train, enc, categories)\n",
    "X_test = OneHotEncoding(X_test, enc, categories)"
   ]
  },
  {
   "cell_type": "code",
   "execution_count": 18,
   "id": "ded529c1-16c9-4cbb-9c5e-62083510afc4",
   "metadata": {},
   "outputs": [
    {
     "data": {
      "text/html": [
       "<div>\n",
       "<style scoped>\n",
       "    .dataframe tbody tr th:only-of-type {\n",
       "        vertical-align: middle;\n",
       "    }\n",
       "\n",
       "    .dataframe tbody tr th {\n",
       "        vertical-align: top;\n",
       "    }\n",
       "\n",
       "    .dataframe thead th {\n",
       "        text-align: right;\n",
       "    }\n",
       "</style>\n",
       "<table border=\"1\" class=\"dataframe\">\n",
       "  <thead>\n",
       "    <tr style=\"text-align: right;\">\n",
       "      <th></th>\n",
       "      <th>CreditScore</th>\n",
       "      <th>Gender</th>\n",
       "      <th>Age</th>\n",
       "      <th>Tenure</th>\n",
       "      <th>Balance</th>\n",
       "      <th>NumOfProducts</th>\n",
       "      <th>HasCrCard</th>\n",
       "      <th>IsActiveMember</th>\n",
       "      <th>EstimatedSalary</th>\n",
       "      <th>Geography_France</th>\n",
       "      <th>Geography_Germany</th>\n",
       "      <th>Geography_Spain</th>\n",
       "    </tr>\n",
       "  </thead>\n",
       "  <tbody>\n",
       "    <tr>\n",
       "      <th>0</th>\n",
       "      <td>606</td>\n",
       "      <td>Male</td>\n",
       "      <td>33</td>\n",
       "      <td>8</td>\n",
       "      <td>0.00</td>\n",
       "      <td>2</td>\n",
       "      <td>1</td>\n",
       "      <td>1</td>\n",
       "      <td>63176.77</td>\n",
       "      <td>0.0</td>\n",
       "      <td>0.0</td>\n",
       "      <td>1.0</td>\n",
       "    </tr>\n",
       "    <tr>\n",
       "      <th>1</th>\n",
       "      <td>508</td>\n",
       "      <td>Male</td>\n",
       "      <td>54</td>\n",
       "      <td>10</td>\n",
       "      <td>0.00</td>\n",
       "      <td>1</td>\n",
       "      <td>1</td>\n",
       "      <td>1</td>\n",
       "      <td>175749.36</td>\n",
       "      <td>0.0</td>\n",
       "      <td>0.0</td>\n",
       "      <td>1.0</td>\n",
       "    </tr>\n",
       "    <tr>\n",
       "      <th>2</th>\n",
       "      <td>735</td>\n",
       "      <td>Male</td>\n",
       "      <td>55</td>\n",
       "      <td>6</td>\n",
       "      <td>134140.68</td>\n",
       "      <td>1</td>\n",
       "      <td>1</td>\n",
       "      <td>0</td>\n",
       "      <td>2267.88</td>\n",
       "      <td>1.0</td>\n",
       "      <td>0.0</td>\n",
       "      <td>0.0</td>\n",
       "    </tr>\n",
       "    <tr>\n",
       "      <th>3</th>\n",
       "      <td>526</td>\n",
       "      <td>Male</td>\n",
       "      <td>30</td>\n",
       "      <td>8</td>\n",
       "      <td>0.00</td>\n",
       "      <td>1</td>\n",
       "      <td>1</td>\n",
       "      <td>0</td>\n",
       "      <td>36251.00</td>\n",
       "      <td>0.0</td>\n",
       "      <td>0.0</td>\n",
       "      <td>1.0</td>\n",
       "    </tr>\n",
       "    <tr>\n",
       "      <th>4</th>\n",
       "      <td>547</td>\n",
       "      <td>Female</td>\n",
       "      <td>31</td>\n",
       "      <td>9</td>\n",
       "      <td>0.00</td>\n",
       "      <td>2</td>\n",
       "      <td>0</td>\n",
       "      <td>0</td>\n",
       "      <td>99294.22</td>\n",
       "      <td>0.0</td>\n",
       "      <td>0.0</td>\n",
       "      <td>1.0</td>\n",
       "    </tr>\n",
       "  </tbody>\n",
       "</table>\n",
       "</div>"
      ],
      "text/plain": [
       "   CreditScore  Gender  Age  Tenure    Balance  NumOfProducts  HasCrCard  \\\n",
       "0          606    Male   33       8       0.00              2          1   \n",
       "1          508    Male   54      10       0.00              1          1   \n",
       "2          735    Male   55       6  134140.68              1          1   \n",
       "3          526    Male   30       8       0.00              1          1   \n",
       "4          547  Female   31       9       0.00              2          0   \n",
       "\n",
       "   IsActiveMember  EstimatedSalary  Geography_France  Geography_Germany  \\\n",
       "0               1         63176.77               0.0                0.0   \n",
       "1               1        175749.36               0.0                0.0   \n",
       "2               0          2267.88               1.0                0.0   \n",
       "3               0         36251.00               0.0                0.0   \n",
       "4               0         99294.22               0.0                0.0   \n",
       "\n",
       "   Geography_Spain  \n",
       "0              1.0  \n",
       "1              1.0  \n",
       "2              0.0  \n",
       "3              1.0  \n",
       "4              1.0  "
      ]
     },
     "execution_count": 18,
     "metadata": {},
     "output_type": "execute_result"
    }
   ],
   "source": [
    "X_train.head()"
   ]
  },
  {
   "cell_type": "code",
   "execution_count": 19,
   "id": "8c748ee7-930c-4e3a-976e-2c4c2b5b4c85",
   "metadata": {},
   "outputs": [],
   "source": [
    "#ordinal encoding for the binary feature: gender\n",
    "from sklearn.preprocessing import OrdinalEncoder\n",
    "\n",
    "categories = ['Gender']\n",
    "enc = OrdinalEncoder()\n",
    "\n",
    "X_train[categories] = enc.fit_transform(X_train[categories])\n",
    "X_test[categories] = enc.fit_transform(X_test[categories])"
   ]
  },
  {
   "cell_type": "code",
   "execution_count": 20,
   "id": "27fccb20-495c-4fdf-9f0c-621b8819fcfe",
   "metadata": {},
   "outputs": [
    {
     "data": {
      "text/html": [
       "<div>\n",
       "<style scoped>\n",
       "    .dataframe tbody tr th:only-of-type {\n",
       "        vertical-align: middle;\n",
       "    }\n",
       "\n",
       "    .dataframe tbody tr th {\n",
       "        vertical-align: top;\n",
       "    }\n",
       "\n",
       "    .dataframe thead th {\n",
       "        text-align: right;\n",
       "    }\n",
       "</style>\n",
       "<table border=\"1\" class=\"dataframe\">\n",
       "  <thead>\n",
       "    <tr style=\"text-align: right;\">\n",
       "      <th></th>\n",
       "      <th>CreditScore</th>\n",
       "      <th>Gender</th>\n",
       "      <th>Age</th>\n",
       "      <th>Tenure</th>\n",
       "      <th>Balance</th>\n",
       "      <th>NumOfProducts</th>\n",
       "      <th>HasCrCard</th>\n",
       "      <th>IsActiveMember</th>\n",
       "      <th>EstimatedSalary</th>\n",
       "      <th>Geography_France</th>\n",
       "      <th>Geography_Germany</th>\n",
       "      <th>Geography_Spain</th>\n",
       "    </tr>\n",
       "  </thead>\n",
       "  <tbody>\n",
       "    <tr>\n",
       "      <th>0</th>\n",
       "      <td>606</td>\n",
       "      <td>1.0</td>\n",
       "      <td>33</td>\n",
       "      <td>8</td>\n",
       "      <td>0.00</td>\n",
       "      <td>2</td>\n",
       "      <td>1</td>\n",
       "      <td>1</td>\n",
       "      <td>63176.77</td>\n",
       "      <td>0.0</td>\n",
       "      <td>0.0</td>\n",
       "      <td>1.0</td>\n",
       "    </tr>\n",
       "    <tr>\n",
       "      <th>1</th>\n",
       "      <td>508</td>\n",
       "      <td>1.0</td>\n",
       "      <td>54</td>\n",
       "      <td>10</td>\n",
       "      <td>0.00</td>\n",
       "      <td>1</td>\n",
       "      <td>1</td>\n",
       "      <td>1</td>\n",
       "      <td>175749.36</td>\n",
       "      <td>0.0</td>\n",
       "      <td>0.0</td>\n",
       "      <td>1.0</td>\n",
       "    </tr>\n",
       "    <tr>\n",
       "      <th>2</th>\n",
       "      <td>735</td>\n",
       "      <td>1.0</td>\n",
       "      <td>55</td>\n",
       "      <td>6</td>\n",
       "      <td>134140.68</td>\n",
       "      <td>1</td>\n",
       "      <td>1</td>\n",
       "      <td>0</td>\n",
       "      <td>2267.88</td>\n",
       "      <td>1.0</td>\n",
       "      <td>0.0</td>\n",
       "      <td>0.0</td>\n",
       "    </tr>\n",
       "    <tr>\n",
       "      <th>3</th>\n",
       "      <td>526</td>\n",
       "      <td>1.0</td>\n",
       "      <td>30</td>\n",
       "      <td>8</td>\n",
       "      <td>0.00</td>\n",
       "      <td>1</td>\n",
       "      <td>1</td>\n",
       "      <td>0</td>\n",
       "      <td>36251.00</td>\n",
       "      <td>0.0</td>\n",
       "      <td>0.0</td>\n",
       "      <td>1.0</td>\n",
       "    </tr>\n",
       "    <tr>\n",
       "      <th>4</th>\n",
       "      <td>547</td>\n",
       "      <td>0.0</td>\n",
       "      <td>31</td>\n",
       "      <td>9</td>\n",
       "      <td>0.00</td>\n",
       "      <td>2</td>\n",
       "      <td>0</td>\n",
       "      <td>0</td>\n",
       "      <td>99294.22</td>\n",
       "      <td>0.0</td>\n",
       "      <td>0.0</td>\n",
       "      <td>1.0</td>\n",
       "    </tr>\n",
       "  </tbody>\n",
       "</table>\n",
       "</div>"
      ],
      "text/plain": [
       "   CreditScore  Gender  Age  Tenure    Balance  NumOfProducts  HasCrCard  \\\n",
       "0          606     1.0   33       8       0.00              2          1   \n",
       "1          508     1.0   54      10       0.00              1          1   \n",
       "2          735     1.0   55       6  134140.68              1          1   \n",
       "3          526     1.0   30       8       0.00              1          1   \n",
       "4          547     0.0   31       9       0.00              2          0   \n",
       "\n",
       "   IsActiveMember  EstimatedSalary  Geography_France  Geography_Germany  \\\n",
       "0               1         63176.77               0.0                0.0   \n",
       "1               1        175749.36               0.0                0.0   \n",
       "2               0          2267.88               1.0                0.0   \n",
       "3               0         36251.00               0.0                0.0   \n",
       "4               0         99294.22               0.0                0.0   \n",
       "\n",
       "   Geography_Spain  \n",
       "0              1.0  \n",
       "1              1.0  \n",
       "2              0.0  \n",
       "3              1.0  \n",
       "4              1.0  "
      ]
     },
     "execution_count": 20,
     "metadata": {},
     "output_type": "execute_result"
    }
   ],
   "source": [
    "X_train.head()\n",
    "#male = 1, female = 0"
   ]
  },
  {
   "cell_type": "markdown",
   "id": "9f12fcf4-9330-4c62-b4a8-f066f1bc5240",
   "metadata": {},
   "source": [
    "#### 2.3 Data Scaling"
   ]
  },
  {
   "cell_type": "code",
   "execution_count": 21,
   "id": "2409a61c-b495-4cbd-b6f5-527495a08d55",
   "metadata": {},
   "outputs": [],
   "source": [
    "scaler = StandardScaler()\n",
    "X_train[num_cols] = scaler.fit_transform(X_train[num_cols])\n",
    "X_test[num_cols] = scaler.fit_transform(X_test[num_cols])"
   ]
  },
  {
   "cell_type": "code",
   "execution_count": 22,
   "id": "0a5e0305-364f-4846-aac6-292ae8b9413f",
   "metadata": {},
   "outputs": [
    {
     "data": {
      "text/html": [
       "<div>\n",
       "<style scoped>\n",
       "    .dataframe tbody tr th:only-of-type {\n",
       "        vertical-align: middle;\n",
       "    }\n",
       "\n",
       "    .dataframe tbody tr th {\n",
       "        vertical-align: top;\n",
       "    }\n",
       "\n",
       "    .dataframe thead th {\n",
       "        text-align: right;\n",
       "    }\n",
       "</style>\n",
       "<table border=\"1\" class=\"dataframe\">\n",
       "  <thead>\n",
       "    <tr style=\"text-align: right;\">\n",
       "      <th></th>\n",
       "      <th>CreditScore</th>\n",
       "      <th>Gender</th>\n",
       "      <th>Age</th>\n",
       "      <th>Tenure</th>\n",
       "      <th>Balance</th>\n",
       "      <th>NumOfProducts</th>\n",
       "      <th>HasCrCard</th>\n",
       "      <th>IsActiveMember</th>\n",
       "      <th>EstimatedSalary</th>\n",
       "      <th>Geography_France</th>\n",
       "      <th>Geography_Germany</th>\n",
       "      <th>Geography_Spain</th>\n",
       "    </tr>\n",
       "  </thead>\n",
       "  <tbody>\n",
       "    <tr>\n",
       "      <th>0</th>\n",
       "      <td>-0.455970</td>\n",
       "      <td>1.0</td>\n",
       "      <td>-0.573152</td>\n",
       "      <td>1.046956</td>\n",
       "      <td>-1.215199</td>\n",
       "      <td>0.807885</td>\n",
       "      <td>0.647388</td>\n",
       "      <td>0.968496</td>\n",
       "      <td>-0.639648</td>\n",
       "      <td>0.0</td>\n",
       "      <td>0.0</td>\n",
       "      <td>1.0</td>\n",
       "    </tr>\n",
       "    <tr>\n",
       "      <th>1</th>\n",
       "      <td>-1.468993</td>\n",
       "      <td>1.0</td>\n",
       "      <td>1.426348</td>\n",
       "      <td>1.742485</td>\n",
       "      <td>-1.215199</td>\n",
       "      <td>-0.912483</td>\n",
       "      <td>0.647388</td>\n",
       "      <td>0.968496</td>\n",
       "      <td>1.310733</td>\n",
       "      <td>0.0</td>\n",
       "      <td>0.0</td>\n",
       "      <td>1.0</td>\n",
       "    </tr>\n",
       "    <tr>\n",
       "      <th>2</th>\n",
       "      <td>0.877500</td>\n",
       "      <td>1.0</td>\n",
       "      <td>1.521563</td>\n",
       "      <td>0.351428</td>\n",
       "      <td>0.929937</td>\n",
       "      <td>-0.912483</td>\n",
       "      <td>0.647388</td>\n",
       "      <td>-1.032529</td>\n",
       "      <td>-1.694927</td>\n",
       "      <td>1.0</td>\n",
       "      <td>0.0</td>\n",
       "      <td>0.0</td>\n",
       "    </tr>\n",
       "    <tr>\n",
       "      <th>3</th>\n",
       "      <td>-1.282928</td>\n",
       "      <td>1.0</td>\n",
       "      <td>-0.858795</td>\n",
       "      <td>1.046956</td>\n",
       "      <td>-1.215199</td>\n",
       "      <td>-0.912483</td>\n",
       "      <td>0.647388</td>\n",
       "      <td>-1.032529</td>\n",
       "      <td>-1.106151</td>\n",
       "      <td>0.0</td>\n",
       "      <td>0.0</td>\n",
       "      <td>1.0</td>\n",
       "    </tr>\n",
       "    <tr>\n",
       "      <th>4</th>\n",
       "      <td>-1.065851</td>\n",
       "      <td>0.0</td>\n",
       "      <td>-0.763581</td>\n",
       "      <td>1.394721</td>\n",
       "      <td>-1.215199</td>\n",
       "      <td>0.807885</td>\n",
       "      <td>-1.544670</td>\n",
       "      <td>-1.032529</td>\n",
       "      <td>-0.013893</td>\n",
       "      <td>0.0</td>\n",
       "      <td>0.0</td>\n",
       "      <td>1.0</td>\n",
       "    </tr>\n",
       "  </tbody>\n",
       "</table>\n",
       "</div>"
      ],
      "text/plain": [
       "   CreditScore  Gender       Age    Tenure   Balance  NumOfProducts  \\\n",
       "0    -0.455970     1.0 -0.573152  1.046956 -1.215199       0.807885   \n",
       "1    -1.468993     1.0  1.426348  1.742485 -1.215199      -0.912483   \n",
       "2     0.877500     1.0  1.521563  0.351428  0.929937      -0.912483   \n",
       "3    -1.282928     1.0 -0.858795  1.046956 -1.215199      -0.912483   \n",
       "4    -1.065851     0.0 -0.763581  1.394721 -1.215199       0.807885   \n",
       "\n",
       "   HasCrCard  IsActiveMember  EstimatedSalary  Geography_France  \\\n",
       "0   0.647388        0.968496        -0.639648               0.0   \n",
       "1   0.647388        0.968496         1.310733               0.0   \n",
       "2   0.647388       -1.032529        -1.694927               1.0   \n",
       "3   0.647388       -1.032529        -1.106151               0.0   \n",
       "4  -1.544670       -1.032529        -0.013893               0.0   \n",
       "\n",
       "   Geography_Germany  Geography_Spain  \n",
       "0                0.0              1.0  \n",
       "1                0.0              1.0  \n",
       "2                0.0              0.0  \n",
       "3                0.0              1.0  \n",
       "4                0.0              1.0  "
      ]
     },
     "execution_count": 22,
     "metadata": {},
     "output_type": "execute_result"
    }
   ],
   "source": [
    "X_train.head()"
   ]
  },
  {
   "cell_type": "markdown",
   "id": "59c6bff7-96fe-4bd8-90fa-82e83cc54806",
   "metadata": {},
   "source": [
    "### Part 3: Model Training and Result Evaluation"
   ]
  },
  {
   "cell_type": "markdown",
   "id": "4789a3cc-e757-4cc2-a027-78d948e88f7e",
   "metadata": {},
   "source": [
    "#### Part 3.1: Model Training"
   ]
  },
  {
   "cell_type": "code",
   "execution_count": 23,
   "id": "0f45f357-4db4-491b-8297-40ff29e2125d",
   "metadata": {},
   "outputs": [],
   "source": [
    "#Logistic Regression\n",
    "clf_lr = LogisticRegression()\n",
    "\n",
    "#K Nearest Neighbors\n",
    "clf_knn = KNeighborsClassifier()\n",
    "\n",
    "#Random Forest\n",
    "clf_rf = RandomForestClassifier()"
   ]
  },
  {
   "cell_type": "markdown",
   "id": "1de5de5d-c7cb-419b-8a74-65ebdb912868",
   "metadata": {
    "tags": []
   },
   "source": [
    "#### Part 3.2 Find the optimal Hyperparameters using Grid Search"
   ]
  },
  {
   "cell_type": "markdown",
   "id": "4bee506d-3582-4fed-a68e-534b1d55d2fb",
   "metadata": {},
   "source": [
    "Define helper function"
   ]
  },
  {
   "cell_type": "code",
   "execution_count": 24,
   "id": "0884317a-3bf1-40b6-a99b-2c797270aca4",
   "metadata": {},
   "outputs": [],
   "source": [
    "# def a helper function to print out grid search results\n",
    "def print_gs_metrics(gs):\n",
    "    print('Best score: ' + str(gs.best_score_))\n",
    "    print('Best parameters set: ')\n",
    "    best_params = gs.best_params_\n",
    "    for param_name in sorted(best_params.keys()):\n",
    "        print(param_name + ':' + str(best_params[param_name]))"
   ]
  },
  {
   "cell_type": "markdown",
   "id": "9974bd6a-2449-4699-87ff-4ccc6dc8e0c3",
   "metadata": {},
   "source": [
    "#### Part 3.2.1: Find for Logistics Regression"
   ]
  },
  {
   "cell_type": "code",
   "execution_count": 25,
   "id": "8329ebe0-f247-428c-a090-af2e02c42c80",
   "metadata": {},
   "outputs": [
    {
     "data": {
      "text/plain": [
       "GridSearchCV(cv=5, estimator=LogisticRegression(solver='liblinear'),\n",
       "             param_grid={'C': (0.01, 0.05, 0.1, 0.2, 1),\n",
       "                         'penalty': ('l1', 'l2')})"
      ]
     },
     "execution_count": 25,
     "metadata": {},
     "output_type": "execute_result"
    }
   ],
   "source": [
    "# Using 'liblinear' as solver is because it could use both L1 and L2 as regularization techniques\n",
    "\n",
    "parameters = {\n",
    "    'penalty':('l1','l2'),\n",
    "    'C':(0.01, 0.05, 0.1, 0.2, 1)\n",
    "}\n",
    "\n",
    "Grid_LR = GridSearchCV(LogisticRegression(solver = 'liblinear'), param_grid = parameters, cv = 5)\n",
    "Grid_LR.fit(X_train, y_train)"
   ]
  },
  {
   "cell_type": "code",
   "execution_count": 26,
   "id": "13168fe6-1054-4626-a0c0-00a61e9b5f67",
   "metadata": {},
   "outputs": [
    {
     "name": "stdout",
     "output_type": "stream",
     "text": [
      "Best score: 0.8092\n",
      "Best parameters set: \n",
      "C:0.2\n",
      "penalty:l1\n"
     ]
    }
   ],
   "source": [
    "#get the result info of our model\n",
    "print_gs_metrics(Grid_LR)"
   ]
  },
  {
   "cell_type": "code",
   "execution_count": 27,
   "id": "ba2a3f5d-1766-417b-a03a-084b8b466314",
   "metadata": {},
   "outputs": [],
   "source": [
    "#build the best model for LR\n",
    "best_model_lr = Grid_LR.best_estimator_"
   ]
  },
  {
   "cell_type": "code",
   "execution_count": 28,
   "id": "311716db-b906-4b57-ab31-47f6c0714ac8",
   "metadata": {},
   "outputs": [
    {
     "data": {
      "text/plain": [
       "array([0, 0, 0, ..., 0, 0, 0])"
      ]
     },
     "execution_count": 28,
     "metadata": {},
     "output_type": "execute_result"
    }
   ],
   "source": [
    "best_model_lr.predict(X_test)"
   ]
  },
  {
   "cell_type": "code",
   "execution_count": 29,
   "id": "3d1bce4a-141b-4146-aeab-84fedb99cb11",
   "metadata": {},
   "outputs": [
    {
     "data": {
      "text/plain": [
       "0.818"
      ]
     },
     "execution_count": 29,
     "metadata": {},
     "output_type": "execute_result"
    }
   ],
   "source": [
    "best_model_lr.score(X_test, y_test)"
   ]
  },
  {
   "cell_type": "code",
   "execution_count": 30,
   "id": "947ec00d-b1ae-41c7-b228-f02618aac9df",
   "metadata": {},
   "outputs": [
    {
     "data": {
      "text/html": [
       "<div>\n",
       "<style scoped>\n",
       "    .dataframe tbody tr th:only-of-type {\n",
       "        vertical-align: middle;\n",
       "    }\n",
       "\n",
       "    .dataframe tbody tr th {\n",
       "        vertical-align: top;\n",
       "    }\n",
       "\n",
       "    .dataframe thead th {\n",
       "        text-align: right;\n",
       "    }\n",
       "</style>\n",
       "<table border=\"1\" class=\"dataframe\">\n",
       "  <thead>\n",
       "    <tr style=\"text-align: right;\">\n",
       "      <th></th>\n",
       "      <th>mean_fit_time</th>\n",
       "      <th>std_fit_time</th>\n",
       "      <th>mean_score_time</th>\n",
       "      <th>std_score_time</th>\n",
       "      <th>param_C</th>\n",
       "      <th>param_penalty</th>\n",
       "      <th>params</th>\n",
       "      <th>split0_test_score</th>\n",
       "      <th>split1_test_score</th>\n",
       "      <th>split2_test_score</th>\n",
       "      <th>split3_test_score</th>\n",
       "      <th>split4_test_score</th>\n",
       "      <th>mean_test_score</th>\n",
       "      <th>std_test_score</th>\n",
       "      <th>rank_test_score</th>\n",
       "    </tr>\n",
       "  </thead>\n",
       "  <tbody>\n",
       "    <tr>\n",
       "      <th>0</th>\n",
       "      <td>0.007246</td>\n",
       "      <td>0.001045</td>\n",
       "      <td>0.001141</td>\n",
       "      <td>0.000095</td>\n",
       "      <td>0.01</td>\n",
       "      <td>l1</td>\n",
       "      <td>{'C': 0.01, 'penalty': 'l1'}</td>\n",
       "      <td>0.802667</td>\n",
       "      <td>0.808000</td>\n",
       "      <td>0.796667</td>\n",
       "      <td>0.801333</td>\n",
       "      <td>0.797333</td>\n",
       "      <td>0.801200</td>\n",
       "      <td>0.004097</td>\n",
       "      <td>10</td>\n",
       "    </tr>\n",
       "    <tr>\n",
       "      <th>1</th>\n",
       "      <td>0.005346</td>\n",
       "      <td>0.000441</td>\n",
       "      <td>0.000768</td>\n",
       "      <td>0.000099</td>\n",
       "      <td>0.01</td>\n",
       "      <td>l2</td>\n",
       "      <td>{'C': 0.01, 'penalty': 'l2'}</td>\n",
       "      <td>0.811333</td>\n",
       "      <td>0.813333</td>\n",
       "      <td>0.806000</td>\n",
       "      <td>0.809333</td>\n",
       "      <td>0.804667</td>\n",
       "      <td>0.808933</td>\n",
       "      <td>0.003228</td>\n",
       "      <td>3</td>\n",
       "    </tr>\n",
       "    <tr>\n",
       "      <th>2</th>\n",
       "      <td>0.008140</td>\n",
       "      <td>0.001541</td>\n",
       "      <td>0.000732</td>\n",
       "      <td>0.000042</td>\n",
       "      <td>0.05</td>\n",
       "      <td>l1</td>\n",
       "      <td>{'C': 0.05, 'penalty': 'l1'}</td>\n",
       "      <td>0.808000</td>\n",
       "      <td>0.812000</td>\n",
       "      <td>0.806000</td>\n",
       "      <td>0.808667</td>\n",
       "      <td>0.806667</td>\n",
       "      <td>0.808267</td>\n",
       "      <td>0.002091</td>\n",
       "      <td>5</td>\n",
       "    </tr>\n",
       "    <tr>\n",
       "      <th>3</th>\n",
       "      <td>0.005278</td>\n",
       "      <td>0.000007</td>\n",
       "      <td>0.000667</td>\n",
       "      <td>0.000019</td>\n",
       "      <td>0.05</td>\n",
       "      <td>l2</td>\n",
       "      <td>{'C': 0.05, 'penalty': 'l2'}</td>\n",
       "      <td>0.810667</td>\n",
       "      <td>0.813333</td>\n",
       "      <td>0.802000</td>\n",
       "      <td>0.809333</td>\n",
       "      <td>0.806000</td>\n",
       "      <td>0.808267</td>\n",
       "      <td>0.003924</td>\n",
       "      <td>4</td>\n",
       "    </tr>\n",
       "    <tr>\n",
       "      <th>4</th>\n",
       "      <td>0.008911</td>\n",
       "      <td>0.002210</td>\n",
       "      <td>0.000654</td>\n",
       "      <td>0.000011</td>\n",
       "      <td>0.1</td>\n",
       "      <td>l1</td>\n",
       "      <td>{'C': 0.1, 'penalty': 'l1'}</td>\n",
       "      <td>0.810667</td>\n",
       "      <td>0.812000</td>\n",
       "      <td>0.805333</td>\n",
       "      <td>0.811333</td>\n",
       "      <td>0.806667</td>\n",
       "      <td>0.809200</td>\n",
       "      <td>0.002680</td>\n",
       "      <td>2</td>\n",
       "    </tr>\n",
       "  </tbody>\n",
       "</table>\n",
       "</div>"
      ],
      "text/plain": [
       "   mean_fit_time  std_fit_time  mean_score_time  std_score_time param_C  \\\n",
       "0       0.007246      0.001045         0.001141        0.000095    0.01   \n",
       "1       0.005346      0.000441         0.000768        0.000099    0.01   \n",
       "2       0.008140      0.001541         0.000732        0.000042    0.05   \n",
       "3       0.005278      0.000007         0.000667        0.000019    0.05   \n",
       "4       0.008911      0.002210         0.000654        0.000011     0.1   \n",
       "\n",
       "  param_penalty                        params  split0_test_score  \\\n",
       "0            l1  {'C': 0.01, 'penalty': 'l1'}           0.802667   \n",
       "1            l2  {'C': 0.01, 'penalty': 'l2'}           0.811333   \n",
       "2            l1  {'C': 0.05, 'penalty': 'l1'}           0.808000   \n",
       "3            l2  {'C': 0.05, 'penalty': 'l2'}           0.810667   \n",
       "4            l1   {'C': 0.1, 'penalty': 'l1'}           0.810667   \n",
       "\n",
       "   split1_test_score  split2_test_score  split3_test_score  split4_test_score  \\\n",
       "0           0.808000           0.796667           0.801333           0.797333   \n",
       "1           0.813333           0.806000           0.809333           0.804667   \n",
       "2           0.812000           0.806000           0.808667           0.806667   \n",
       "3           0.813333           0.802000           0.809333           0.806000   \n",
       "4           0.812000           0.805333           0.811333           0.806667   \n",
       "\n",
       "   mean_test_score  std_test_score  rank_test_score  \n",
       "0         0.801200        0.004097               10  \n",
       "1         0.808933        0.003228                3  \n",
       "2         0.808267        0.002091                5  \n",
       "3         0.808267        0.003924                4  \n",
       "4         0.809200        0.002680                2  "
      ]
     },
     "execution_count": 30,
     "metadata": {},
     "output_type": "execute_result"
    }
   ],
   "source": [
    "#shows the grid search result\n",
    "model_result_lr = pd.DataFrame(Grid_LR.cv_results_)\n",
    "model_result_lr.head()"
   ]
  },
  {
   "cell_type": "code",
   "execution_count": 31,
   "id": "5dfdf43f-4716-4347-b657-4d15d1457974",
   "metadata": {},
   "outputs": [
    {
     "data": {
      "text/html": [
       "<div>\n",
       "<style scoped>\n",
       "    .dataframe tbody tr th:only-of-type {\n",
       "        vertical-align: middle;\n",
       "    }\n",
       "\n",
       "    .dataframe tbody tr th {\n",
       "        vertical-align: top;\n",
       "    }\n",
       "\n",
       "    .dataframe thead th {\n",
       "        text-align: right;\n",
       "    }\n",
       "</style>\n",
       "<table border=\"1\" class=\"dataframe\">\n",
       "  <thead>\n",
       "    <tr style=\"text-align: right;\">\n",
       "      <th>param_C</th>\n",
       "      <th>0.01</th>\n",
       "      <th>0.05</th>\n",
       "      <th>0.10</th>\n",
       "      <th>0.20</th>\n",
       "      <th>1.00</th>\n",
       "    </tr>\n",
       "    <tr>\n",
       "      <th>param_penalty</th>\n",
       "      <th></th>\n",
       "      <th></th>\n",
       "      <th></th>\n",
       "      <th></th>\n",
       "      <th></th>\n",
       "    </tr>\n",
       "  </thead>\n",
       "  <tbody>\n",
       "    <tr>\n",
       "      <th>l1</th>\n",
       "      <td>0.801200</td>\n",
       "      <td>0.808267</td>\n",
       "      <td>0.809200</td>\n",
       "      <td>0.809200</td>\n",
       "      <td>0.808267</td>\n",
       "    </tr>\n",
       "    <tr>\n",
       "      <th>l2</th>\n",
       "      <td>0.808933</td>\n",
       "      <td>0.808267</td>\n",
       "      <td>0.808267</td>\n",
       "      <td>0.808133</td>\n",
       "      <td>0.808267</td>\n",
       "    </tr>\n",
       "  </tbody>\n",
       "</table>\n",
       "</div>"
      ],
      "text/plain": [
       "param_C            0.01      0.05      0.10      0.20      1.00\n",
       "param_penalty                                                  \n",
       "l1             0.801200  0.808267  0.809200  0.809200  0.808267\n",
       "l2             0.808933  0.808267  0.808267  0.808133  0.808267"
      ]
     },
     "execution_count": 31,
     "metadata": {},
     "output_type": "execute_result"
    }
   ],
   "source": [
    "#use pivot function to reshape the res df for ploting\n",
    "res = model_result_lr.pivot(index = 'param_penalty', \n",
    "                            columns = 'param_C', values = 'mean_test_score')\n",
    "res"
   ]
  },
  {
   "cell_type": "code",
   "execution_count": 32,
   "id": "30fcb185-4d33-479f-a58c-2b807e3375ad",
   "metadata": {},
   "outputs": [
    {
     "data": {
      "text/plain": [
       "<AxesSubplot:xlabel='param_C', ylabel='param_penalty'>"
      ]
     },
     "execution_count": 32,
     "metadata": {},
     "output_type": "execute_result"
    },
    {
     "data": {
      "image/png": "[encoded data removed]",
      "text/plain": [
       "<Figure size 432x288 with 2 Axes>"
      ]
     },
     "metadata": {
      "needs_background": "light"
     },
     "output_type": "display_data"
    }
   ],
   "source": [
    "#plot the result by regularization type and penalty strength\n",
    "sns.heatmap(res, annot = True)"
   ]
  },
  {
   "cell_type": "markdown",
   "id": "27cd65cf-46e0-459a-922e-7c7e56c047ca",
   "metadata": {},
   "source": [
    "#### Part 3.2.2: Find for KNN"
   ]
  },
  {
   "cell_type": "code",
   "execution_count": 33,
   "id": "d15dccc3-99f1-481b-9f40-505cb98454c6",
   "metadata": {},
   "outputs": [
    {
     "data": {
      "text/plain": [
       "GridSearchCV(cv=5, estimator=KNeighborsClassifier(),\n",
       "             param_grid={'n_neighbors': [1, 3, 5, 7, 9]})"
      ]
     },
     "execution_count": 33,
     "metadata": {},
     "output_type": "execute_result"
    }
   ],
   "source": [
    "#the only hyperparamter we should tune is K\n",
    "parameters = {\n",
    "    'n_neighbors':[1,3,5,7,9]\n",
    "}\n",
    "Grid_KNN = GridSearchCV(clf_knn, param_grid = parameters, cv = 5)\n",
    "Grid_KNN.fit(X_train, y_train)"
   ]
  },
  {
   "cell_type": "code",
   "execution_count": 34,
   "id": "ced4b93c-a751-40f2-8f13-f534e4153db1",
   "metadata": {},
   "outputs": [
    {
     "name": "stdout",
     "output_type": "stream",
     "text": [
      "Best score: 0.8402666666666667\n",
      "Best parameters set: \n",
      "n_neighbors:9\n"
     ]
    }
   ],
   "source": [
    "#print the best k\n",
    "print_gs_metrics(Grid_KNN)"
   ]
  },
  {
   "cell_type": "code",
   "execution_count": 35,
   "id": "b1e6ff18-cf87-4eef-9386-35090dea5b36",
   "metadata": {},
   "outputs": [
    {
     "data": {
      "text/plain": [
       "0.8508"
      ]
     },
     "execution_count": 35,
     "metadata": {},
     "output_type": "execute_result"
    }
   ],
   "source": [
    "#test model accuracy\n",
    "best_model_knn = Grid_KNN.best_estimator_\n",
    "best_model_knn.score(X_test, y_test)"
   ]
  },
  {
   "cell_type": "markdown",
   "id": "9f6ed3a8-1cf6-440f-aa9d-058c6cde629e",
   "metadata": {},
   "source": [
    "#### Part 3.2.3: Find for Random Forest"
   ]
  },
  {
   "cell_type": "code",
   "execution_count": 36,
   "id": "747e9cf2-d107-4dc8-bdef-beda9cc95e3c",
   "metadata": {},
   "outputs": [
    {
     "name": "stdout",
     "output_type": "stream",
     "text": [
      "Parameters currently in use:\n",
      "\n",
      "{'bootstrap': True,\n",
      " 'ccp_alpha': 0.0,\n",
      " 'class_weight': None,\n",
      " 'criterion': 'gini',\n",
      " 'max_depth': None,\n",
      " 'max_features': 'auto',\n",
      " 'max_leaf_nodes': None,\n",
      " 'max_samples': None,\n",
      " 'min_impurity_decrease': 0.0,\n",
      " 'min_samples_leaf': 1,\n",
      " 'min_samples_split': 2,\n",
      " 'min_weight_fraction_leaf': 0.0,\n",
      " 'n_estimators': 100,\n",
      " 'n_jobs': None,\n",
      " 'oob_score': False,\n",
      " 'random_state': None,\n",
      " 'verbose': 0,\n",
      " 'warm_start': False}\n"
     ]
    }
   ],
   "source": [
    "#print out the existing(default) hyperparams\n",
    "print('Parameters currently in use:\\n')\n",
    "pprint(clf_rf.get_params())"
   ]
  },
  {
   "cell_type": "markdown",
   "id": "40d19a8e-0820-422f-aa78-b58b6db187f3",
   "metadata": {},
   "source": [
    "##### To find the optimal hyperparams in the rf model:\n",
    "##### Step 1: narrow the hyperparams range using random grid search \n",
    "##### Step 2: using grid search to improve the random search result"
   ]
  },
  {
   "cell_type": "markdown",
   "id": "6949a1c7-cd74-402f-ac66-14bad7ad7799",
   "metadata": {},
   "source": [
    "#### Step 1: random grid search"
   ]
  },
  {
   "cell_type": "code",
   "execution_count": 37,
   "id": "d3632715-ea59-44f9-85f7-e11b8cf722a1",
   "metadata": {},
   "outputs": [
    {
     "name": "stdout",
     "output_type": "stream",
     "text": [
      "{'bootstrap': [True, False],\n",
      " 'criterion': ['gini', 'entropy'],\n",
      " 'max_depth': [10, 20, 30, 40, 50, 60, 70, 80, 90, 100, None],\n",
      " 'min_samples_leaf': [1, 2, 4],\n",
      " 'min_samples_split': [2, 5, 10],\n",
      " 'n_estimators': [100, 300, 500, 700, 900, 1100, 1300, 1500]}\n"
     ]
    }
   ],
   "source": [
    "#create random grid dict\n",
    "\n",
    "# spliting criteria\n",
    "criterion = ['gini', 'entropy']\n",
    "\n",
    "# # of trees in rf\n",
    "n_estimators = [int(x) for x in np.linspace(start = 100, stop = 1500, num = 8)]\n",
    "\n",
    "# Max # of levels in tree\n",
    "max_depth = [int(x) for x in np.linspace(10, 100, num = 10)]\n",
    "max_depth.append(None)\n",
    "\n",
    "# Min # of samples required to split a node\n",
    "min_samples_split = [2, 5, 10]\n",
    "\n",
    "# Min # of samples required at each leaf node (for the effect of smoothing the model)\n",
    "# This one is optional, because it will affect the regression model more, but our is classifier\n",
    "min_samples_leaf = [1, 2 ,4]\n",
    "\n",
    "# Method of selecting samples for training each tree\n",
    "bootstrap = [True, False]\n",
    "\n",
    "\n",
    "# create the random grid\n",
    "random_grid = {\n",
    "    'criterion': criterion,\n",
    "    'n_estimators': n_estimators,\n",
    "    'max_depth': max_depth,\n",
    "    'min_samples_split': min_samples_split,\n",
    "    'min_samples_leaf': min_samples_leaf,\n",
    "    'bootstrap': bootstrap\n",
    "}\n",
    "\n",
    "\n",
    "pprint(random_grid)"
   ]
  },
  {
   "cell_type": "code",
   "execution_count": 38,
   "id": "d14d0f86-52d4-4077-a807-440aeb4e5e9a",
   "metadata": {},
   "outputs": [
    {
     "name": "stdout",
     "output_type": "stream",
     "text": [
      "Fitting 3 folds for each of 100 candidates, totalling 300 fits\n"
     ]
    },
    {
     "data": {
      "text/plain": [
       "RandomizedSearchCV(cv=3, estimator=RandomForestClassifier(), n_iter=100,\n",
       "                   n_jobs=-1,\n",
       "                   param_distributions={'bootstrap': [True, False],\n",
       "                                        'criterion': ['gini', 'entropy'],\n",
       "                                        'max_depth': [10, 20, 30, 40, 50, 60,\n",
       "                                                      70, 80, 90, 100, None],\n",
       "                                        'min_samples_leaf': [1, 2, 4],\n",
       "                                        'min_samples_split': [2, 5, 10],\n",
       "                                        'n_estimators': [100, 300, 500, 700,\n",
       "                                                         900, 1100, 1300,\n",
       "                                                         1500]},\n",
       "                   random_state=677, verbose=1)"
      ]
     },
     "execution_count": 38,
     "metadata": {},
     "output_type": "execute_result"
    }
   ],
   "source": [
    "# search across 100 different combinations, and use all available cores\n",
    "rf_random = RandomizedSearchCV(estimator = clf_rf, param_distributions = random_grid,\n",
    "                               n_iter = 100, cv = 3, verbose = 1, random_state = 677, n_jobs = -1)\n",
    "\n",
    "rf_random.fit(X_train, y_train)\n"
   ]
  },
  {
   "cell_type": "code",
   "execution_count": 39,
   "id": "9b8f9f8b-dfbf-42fb-95ed-2fb34bd36611",
   "metadata": {},
   "outputs": [
    {
     "name": "stdout",
     "output_type": "stream",
     "text": [
      "Best score: 0.8616\n",
      "Best parameters set: \n",
      "bootstrap:False\n",
      "criterion:gini\n",
      "max_depth:10\n",
      "min_samples_leaf:2\n",
      "min_samples_split:2\n",
      "n_estimators:300\n"
     ]
    }
   ],
   "source": [
    "#get the result of random grid search for rf\n",
    "print_gs_metrics(rf_random)"
   ]
  },
  {
   "cell_type": "code",
   "execution_count": 40,
   "id": "d422f2b4-1942-46ef-9537-d45b10511ede",
   "metadata": {},
   "outputs": [
    {
     "data": {
      "text/plain": [
       "0.8736"
      ]
     },
     "execution_count": 40,
     "metadata": {},
     "output_type": "execute_result"
    }
   ],
   "source": [
    "random_grid_accuracy = rf_random.score(X_test, y_test)\n",
    "random_grid_accuracy"
   ]
  },
  {
   "cell_type": "markdown",
   "id": "e7a27932-75b9-4401-88d2-69cbee8e264c",
   "metadata": {},
   "source": [
    "#### Step 2: grid search"
   ]
  },
  {
   "cell_type": "markdown",
   "id": "19a22e3f-11a5-4b95-a3d0-aa08357a7024",
   "metadata": {},
   "source": [
    "param_distributions={'bootstrap': [True, False],\n",
    "                                        'criterion': ['gini', 'entropy'],\n",
    "                                        'max_depth': [10, 20, 30, 40, 50, 60,\n",
    "                                                      70, 80, 90, 100, None],\n",
    "                                        'min_samples_leaf': [1, 2, 4],\n",
    "                                        'min_samples_split': [2, 5, 10],\n",
    "                                        'n_estimators': [100, 300, 500, 700,\n",
    "                                                         900, 1100, 1300,\n",
    "                                                         1500]},"
   ]
  },
  {
   "cell_type": "code",
   "execution_count": 41,
   "id": "06d7b63f-0a0a-4a8b-a35a-ed1537377816",
   "metadata": {},
   "outputs": [
    {
     "name": "stdout",
     "output_type": "stream",
     "text": [
      "Fitting 3 folds for each of 90 candidates, totalling 270 fits\n"
     ]
    },
    {
     "data": {
      "text/plain": [
       "GridSearchCV(cv=3, estimator=RandomForestClassifier(), n_jobs=-1,\n",
       "             param_grid={'bootstrap': [True], 'criterion': ['gini'],\n",
       "                         'max_depth': [85, 90, 95], 'min_samples_leaf': [2, 3],\n",
       "                         'min_samples_split': [8, 10, 12],\n",
       "                         'n_estimators': [1000, 1050, 1100, 1150, 1200]},\n",
       "             verbose=1)"
      ]
     },
     "execution_count": 41,
     "metadata": {},
     "output_type": "execute_result"
    }
   ],
   "source": [
    "param_grid = {\n",
    "    'n_estimators': [1000, 1050, 1100, 1150, 1200],\n",
    "    'min_samples_split': [8, 10, 12],\n",
    "    'min_samples_leaf': [2, 3],\n",
    "    'max_depth': [85, 90, 95],\n",
    "    'criterion': ['gini'],\n",
    "    'bootstrap': [True]\n",
    "}\n",
    "\n",
    "grid_search = GridSearchCV(estimator = clf_rf, param_grid = param_grid, \n",
    "                          cv = 3, n_jobs = -1, verbose = 1)\n",
    "\n",
    "grid_search.fit(X_train, y_train)"
   ]
  },
  {
   "cell_type": "code",
   "execution_count": 42,
   "id": "8a6a7bdc-d92e-4699-b3c4-22f030cf9d18",
   "metadata": {},
   "outputs": [
    {
     "name": "stdout",
     "output_type": "stream",
     "text": [
      "Best score: 0.8621333333333334\n",
      "Best parameters set: \n",
      "bootstrap:True\n",
      "criterion:gini\n",
      "max_depth:90\n",
      "min_samples_leaf:3\n",
      "min_samples_split:10\n",
      "n_estimators:1000\n"
     ]
    }
   ],
   "source": [
    "# print the result \n",
    "print_gs_metrics(grid_search)"
   ]
  },
  {
   "cell_type": "code",
   "execution_count": 43,
   "id": "dcfe8b70-7108-471b-b216-814d42e65f24",
   "metadata": {},
   "outputs": [
    {
     "data": {
      "text/plain": [
       "0.8708"
      ]
     },
     "execution_count": 43,
     "metadata": {},
     "output_type": "execute_result"
    }
   ],
   "source": [
    "grid_search_accuracy = grid_search.score(X_test, y_test)\n",
    "grid_search_accuracy"
   ]
  },
  {
   "cell_type": "code",
   "execution_count": 44,
   "id": "b8fb0698-6929-4e35-9ac7-c31a969a7354",
   "metadata": {},
   "outputs": [
    {
     "name": "stdout",
     "output_type": "stream",
     "text": [
      "Improvement of -0.32%.\n"
     ]
    }
   ],
   "source": [
    "#compare the result of random search and grid search\n",
    "print('Improvement of {:0.2f}%.'.format( 100 * (grid_search_accuracy - random_grid_accuracy) / random_grid_accuracy))"
   ]
  },
  {
   "cell_type": "code",
   "execution_count": 45,
   "id": "9dabff6b-5031-42dc-a7e1-b9e3e5a5ffa4",
   "metadata": {},
   "outputs": [
    {
     "data": {
      "text/plain": [
       "RandomForestClassifier(max_depth=90, min_samples_leaf=3, min_samples_split=10,\n",
       "                       n_estimators=1000)"
      ]
     },
     "execution_count": 45,
     "metadata": {},
     "output_type": "execute_result"
    }
   ],
   "source": [
    "best_model_rf = grid_search.best_estimator_\n",
    "best_model_rf"
   ]
  },
  {
   "cell_type": "markdown",
   "id": "9ba3ab8d-d205-4333-8a40-158fbc6bb160",
   "metadata": {},
   "source": [
    "#### Part 3.3 Model Evalution - Confusion Matrix (Precision, Recall, Accuracy)"
   ]
  },
  {
   "cell_type": "markdown",
   "id": "b479dc29-d2d3-4b69-aabb-19e4c19066eb",
   "metadata": {},
   "source": [
    "class of interest as positive\n",
    "\n",
    "TP: correctly labeled real churn\n",
    "\n",
    "Precision(PPV, positive predictive value): tp / (tp + fp); Total number of true predictive churn divided by the total number of predictive churn; High Precision means low fp, not many return users were predicted as churn users.\n",
    "\n",
    "Recall(sensitivity, hit rate, true positive rate): tp / (tp + fn) Predict most postive or churn user correctly. High recall means low fn, not many churn users were predicted as return users."
   ]
  },
  {
   "cell_type": "code",
   "execution_count": 46,
   "id": "afdbe03b-b486-4214-b893-b85041c311fa",
   "metadata": {},
   "outputs": [
    {
     "name": "stdout",
     "output_type": "stream",
     "text": [
      "K nearest neighbor:\n",
      "Accuracy is: 0.8508\n",
      "precision is: 0.7297297297297297\n",
      "recall is: 0.4243614931237721\n",
      "\n",
      "Logistic Regression:\n",
      "Accuracy is: 0.818\n",
      "precision is: 0.6534090909090909\n",
      "recall is: 0.22593320235756384\n",
      "\n",
      "Random Forest:\n",
      "Accuracy is: 0.8708\n",
      "precision is: 0.803921568627451\n",
      "recall is: 0.48330058939096265\n",
      "\n"
     ]
    }
   ],
   "source": [
    "# calculate accuracy, precision and recall\n",
    "def print_model_evla(classifier, name):\n",
    "    precision = precision_score(y_test, classifier.predict(X_test))\n",
    "    recall = recall_score(y_test, classifier.predict(X_test))\n",
    "    accuracy = accuracy_score(y_test, classifier.predict(X_test))\n",
    "    print(name + ':')\n",
    "    print(\"Accuracy is: \" + str(accuracy))\n",
    "    print(\"precision is: \" + str(precision))\n",
    "    print(\"recall is: \" + str(recall))\n",
    "    print()\n",
    "\n",
    "# print the result for models\n",
    "print_model_evla(best_model_knn, 'K nearest neighbor')\n",
    "print_model_evla(best_model_lr, 'Logistic Regression')\n",
    "print_model_evla(best_model_rf, 'Random Forest')"
   ]
  },
  {
   "cell_type": "markdown",
   "id": "f712cab7-723c-413f-ad31-956408667d84",
   "metadata": {},
   "source": [
    "#### Part 3.4: Model Evaluation - ROC & AUC"
   ]
  },
  {
   "cell_type": "markdown",
   "id": "80af52b1-dfdd-4cb1-b556-21dcf1936602",
   "metadata": {},
   "source": [
    "#### Part 3.4.1: ROC of Knn Model"
   ]
  },
  {
   "cell_type": "code",
   "execution_count": 47,
   "id": "b268984f-297a-47f5-a9fd-f5bed2a30a54",
   "metadata": {},
   "outputs": [],
   "source": [
    "# Use predict_proba to get the probability results of knn\n",
    "y_pred_knn = best_model_knn.predict_proba(X_test)[:, 1]# use the second column here is because the positive class is 1\n",
    "fpr_knn, tpr_knn, threshholds_knn = roc_curve(y_test, y_pred_knn)"
   ]
  },
  {
   "cell_type": "code",
   "execution_count": 48,
   "id": "03bd9038-5d35-4728-aaa4-74341479da45",
   "metadata": {},
   "outputs": [
    {
     "data": {
      "image/png": "[encoded data removed]",
      "text/plain": [
       "<Figure size 432x288 with 1 Axes>"
      ]
     },
     "metadata": {
      "needs_background": "light"
     },
     "output_type": "display_data"
    }
   ],
   "source": [
    "# ROC curve of KNN result\n",
    "#data input\n",
    "plt.plot(fpr_knn, tpr_knn, label = 'KNN')\n",
    "\n",
    "#basic setting\n",
    "plt.figure(1)\n",
    "#put a dashed line\n",
    "plt.plot([0, 1], [0, 1], 'k--')#k-- means black dashed line\n",
    "\n",
    "plt.xlabel('False positive rate')\n",
    "plt.ylabel('True positive rate')\n",
    "plt.title('ROC curve - RF model')\n",
    "plt.legend(loc='best')\n",
    "\n",
    "plt.show()"
   ]
  },
  {
   "cell_type": "code",
   "execution_count": 49,
   "id": "c8d990ca-8d5c-4078-be31-6356a79455a9",
   "metadata": {},
   "outputs": [
    {
     "data": {
      "text/plain": [
       "0.8138780701763042"
      ]
     },
     "execution_count": 49,
     "metadata": {},
     "output_type": "execute_result"
    }
   ],
   "source": [
    "# AUC score\n",
    "auc(fpr_knn,tpr_knn)"
   ]
  },
  {
   "cell_type": "markdown",
   "id": "896516e9-202d-4116-a8ef-76508064c047",
   "metadata": {},
   "source": [
    "#### Part 3.4.2: ROC of LR Model"
   ]
  },
  {
   "cell_type": "code",
   "execution_count": 50,
   "id": "e17f0478-74e3-43e5-8f37-dd028f60f628",
   "metadata": {},
   "outputs": [],
   "source": [
    "# Use predict_proba to get the probability results of Logistic Regression\n",
    "y_pred_lr = best_model_lr.predict_proba(X_test)[:, 1]# use the second column here is because the positive class is 1\n",
    "fpr_lr, tpr_lr, threshholds_lr = roc_curve(y_test, y_pred_lr)"
   ]
  },
  {
   "cell_type": "code",
   "execution_count": 51,
   "id": "9fda3b3c-92ec-4b59-956a-7c262b2f50a6",
   "metadata": {},
   "outputs": [
    {
     "data": {
      "image/png": "[encoded data removed]",
      "text/plain": [
       "<Figure size 432x288 with 1 Axes>"
      ]
     },
     "metadata": {
      "needs_background": "light"
     },
     "output_type": "display_data"
    }
   ],
   "source": [
    "# ROC curve of LR result\n",
    "#data input\n",
    "plt.plot(fpr_lr, tpr_lr, label = 'LR')\n",
    "\n",
    "#basic setting\n",
    "plt.figure(1)\n",
    "#put a dashed line\n",
    "plt.plot([0, 1], [0, 1], 'k--')#k-- means black dashed line\n",
    "\n",
    "plt.xlabel('False positive rate')\n",
    "plt.ylabel('True positive rate')\n",
    "plt.title('ROC curve - LR model')\n",
    "plt.legend(loc='best')\n",
    "\n",
    "plt.show()"
   ]
  },
  {
   "cell_type": "code",
   "execution_count": 52,
   "id": "de20b28f-0495-4d5d-8d35-ca0bd1d088d0",
   "metadata": {},
   "outputs": [
    {
     "data": {
      "text/plain": [
       "0.778124349355992"
      ]
     },
     "execution_count": 52,
     "metadata": {},
     "output_type": "execute_result"
    }
   ],
   "source": [
    "# AUC score\n",
    "auc(fpr_lr,tpr_lr)"
   ]
  },
  {
   "cell_type": "markdown",
   "id": "e5765d6b-d2e5-4492-aa7a-779b8cd2d6a0",
   "metadata": {},
   "source": [
    "#### Part 3.4.3: ROC of RF Model"
   ]
  },
  {
   "cell_type": "code",
   "execution_count": 53,
   "id": "66b31e91-4f44-4cb1-bcb1-402f56f41c4c",
   "metadata": {
    "scrolled": true,
    "tags": []
   },
   "outputs": [],
   "source": [
    "# Use predict_proba to get the probability results of Random Forest\n",
    "y_pred_rf = best_model_rf.predict_proba(X_test)[:, 1]# use the second column here is because the positive class is 1\n",
    "fpr_rf, tpr_rf, threshholds_rf = roc_curve(y_test, y_pred_rf)"
   ]
  },
  {
   "cell_type": "code",
   "execution_count": 54,
   "id": "c1e10e05-cffd-47d6-95be-03f6cc71f555",
   "metadata": {},
   "outputs": [
    {
     "data": {
      "image/png": "[encoded data removed]",
      "text/plain": [
       "<Figure size 432x288 with 1 Axes>"
      ]
     },
     "metadata": {
      "needs_background": "light"
     },
     "output_type": "display_data"
    }
   ],
   "source": [
    "# ROC curve of RF result\n",
    "#data input\n",
    "plt.plot(fpr_rf, tpr_rf, label = 'RF')\n",
    "\n",
    "#basic setting\n",
    "plt.figure(1)\n",
    "#put a dashed line\n",
    "plt.plot([0, 1], [0, 1], 'k--')#k-- means black dashed line\n",
    "\n",
    "plt.xlabel('False positive rate')\n",
    "plt.ylabel('True positive rate')\n",
    "plt.title('ROC curve - RF model')\n",
    "plt.legend(loc='best')\n",
    "\n",
    "plt.show()"
   ]
  },
  {
   "cell_type": "markdown",
   "id": "70bb4492-d6ad-4fb3-89b0-0d195e814552",
   "metadata": {},
   "source": [
    "# AUC score\n",
    "auc(fpr_rf,tpr_rf)"
   ]
  },
  {
   "cell_type": "markdown",
   "id": "28ac6f15-e7e8-46fc-94ac-656afc064566",
   "metadata": {},
   "source": [
    "#### Part 4: Model Extra Functionality (feature importance)"
   ]
  },
  {
   "cell_type": "markdown",
   "id": "b96d9efb-8b1a-4c1b-8b30-f25a685d5a0d",
   "metadata": {},
   "source": [
    "#### Part 4.1: Random Forest Model"
   ]
  },
  {
   "cell_type": "code",
   "execution_count": 58,
   "id": "c643e578-3936-4e1b-8158-d08b689873ea",
   "metadata": {},
   "outputs": [
    {
     "name": "stdout",
     "output_type": "stream",
     "text": [
      "Feature importance ranking by Random Forest Model:\n",
      "Age : 0.2874\n",
      "NumOfProducts : 0.1858\n",
      "Balance : 0.1238\n",
      "CreditScore : 0.1029\n",
      "EstimatedSalary : 0.1011\n",
      "IsActiveMember : 0.0591\n",
      "Tenure : 0.0588\n",
      "Geography_Germany : 0.0309\n",
      "Gender : 0.017\n",
      "HasCrCard : 0.013\n",
      "Geography_France : 0.011\n",
      "Geography_Spain : 0.0091\n"
     ]
    }
   ],
   "source": [
    "# check feature importance of random forest for feature selection\n",
    "\n",
    "importances = best_model_rf.feature_importances_\n",
    "indices = np.argsort(importances)[::-1]\n",
    "\n",
    "# Print the feature ranking\n",
    "print(\"Feature importance ranking by Random Forest Model:\")\n",
    "for ind in range(X_train.shape[1]):\n",
    "  print (\"{0} : {1}\".format(X_train.columns[indices[ind]],round(importances[indices[ind]], 4)))"
   ]
  },
  {
   "cell_type": "markdown",
   "id": "ff475572-4f8c-49c5-b3db-e90f65c7a373",
   "metadata": {},
   "source": [
    "#### Part 4.2: Logistic Regression Model"
   ]
  },
  {
   "cell_type": "code",
   "execution_count": 59,
   "id": "ec8302a4-e043-4892-b6bd-1f5baa0f9655",
   "metadata": {},
   "outputs": [
    {
     "name": "stdout",
     "output_type": "stream",
     "text": [
      "Logistic Regression Coefficients\n",
      "Geography_France : -0.7765\n",
      "Age : 0.7304\n",
      "Geography_Spain : -0.7217\n",
      "IsActiveMember : -0.5361\n",
      "Gender : -0.4246\n",
      "Balance : 0.1607\n",
      "NumOfProducts : -0.0665\n",
      "CreditScore : -0.0602\n",
      "Tenure : -0.045\n",
      "HasCrCard : -0.0218\n",
      "EstimatedSalary : 0.0199\n",
      "Geography_Germany : 0.0\n"
     ]
    }
   ],
   "source": [
    "# check the coef for feature selection\n",
    "\n",
    "indices = np.argsort(abs(best_model_lr.coef_[0]))[::-1]\n",
    "\n",
    "print (\"Logistic Regression Coefficients\")\n",
    "for ind in range(X_train.shape[1]):\n",
    "  print (\"{0} : {1}\".format(X_train.columns[indices[ind]],round(best_model_lr.coef_[0][indices[ind]], 4)))"
   ]
  }
 ],
 "metadata": {
  "kernelspec": {
   "display_name": "Python 3 (ipykernel)",
   "language": "python",
   "name": "python3"
  },
  "language_info": {
   "codemirror_mode": {
    "name": "ipython",
    "version": 3
   },
   "file_extension": ".py",
   "mimetype": "text/x-python",
   "name": "python",
   "nbconvert_exporter": "python",
   "pygments_lexer": "ipython3",
   "version": "3.8.8"
  }
 },
 "nbformat": 4,
 "nbformat_minor": 5
}
