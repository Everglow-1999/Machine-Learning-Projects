{
  "nbformat": 4,
  "nbformat_minor": 0,
  "metadata": {
    "colab": {
      "provenance": [],
      "toc_visible": true
    },
    "kernelspec": {
      "name": "python3",
      "display_name": "Python 3"
    }
  },
  "cells": [
    {
      "cell_type": "markdown",
      "metadata": {
        "id": "6GBNxOsI0GnX"
      },
      "source": [
        "# **Moive Recommendation**\n",
        "In this notebook, we will use an Alternating Least Squares (ALS) algorithm with Spark APIs to predict the ratings for the movies in [MovieLens small dataset](https://grouplens.org/datasets/movielens/latest/)"
      ]
    },
    {
      "cell_type": "markdown",
      "metadata": {
        "id": "aICa4l5x0yXn"
      },
      "source": [
        "# Data ETL and Data Exploration"
      ]
    },
    {
      "cell_type": "code",
      "metadata": {
        "id": "QDhok0llExoU"
      },
      "source": [
        "from pyspark.sql import SparkSession\n",
        "spark = SparkSession.builder.master(\"local[*]\").getOrCreate()"
      ],
      "execution_count": null,
      "outputs": []
    },
    {
      "cell_type": "code",
      "metadata": {
        "id": "DEmD7KjswmHU"
      },
      "source": [
        "import numpy as np\n",
        "import pandas as pd\n",
        "import seaborn as sns\n",
        "import matplotlib.pyplot as plt\n",
        "import math\n",
        "%matplotlib inline"
      ],
      "execution_count": null,
      "outputs": []
    },
    {
      "cell_type": "code",
      "metadata": {
        "id": "ukMo_EGsxXyP",
        "colab": {
          "base_uri": "https://localhost:8080/"
        },
        "outputId": "8f9fbe0e-a2d8-4ac3-8e81-ab55b03dc5d5"
      },
      "source": [
        "from google.colab import drive\n",
        "drive.mount('/content/drive')"
      ],
      "execution_count": null,
      "outputs": [
        {
          "output_type": "stream",
          "name": "stdout",
          "text": [
            "Mounted at /content/drive\n"
          ]
        }
      ]
    },
    {
      "cell_type": "code",
      "metadata": {
        "id": "lHqx4fWiyhip"
      },
      "source": [
        "movies_df = spark.read.load(\"drive/My Drive/ml-latest-small/movies.csv\", format='csv', header = True)\n",
        "ratings_df = spark.read.load(\"drive/My Drive/ml-latest-small/ratings.csv\", format='csv', header = True)\n",
        "links_df = spark.read.load(\"drive/My Drive/ml-latest-small/links.csv\", format='csv', header = True)\n",
        "tags_df = spark.read.load(\"drive/My Drive/ml-latest-small/tags.csv\", format='csv', header = True)"
      ],
      "execution_count": null,
      "outputs": []
    },
    {
      "cell_type": "code",
      "metadata": {
        "id": "Zk2Taw7ay_Pb",
        "colab": {
          "base_uri": "https://localhost:8080/"
        },
        "outputId": "690c182f-2e9e-46c0-9f7d-aa6e5b0cc5cb"
      },
      "source": [
        "movies_df.show(5)"
      ],
      "execution_count": null,
      "outputs": [
        {
          "output_type": "stream",
          "name": "stdout",
          "text": [
            "+-------+--------------------+--------------------+\n",
            "|movieId|               title|              genres|\n",
            "+-------+--------------------+--------------------+\n",
            "|      1|    Toy Story (1995)|Adventure|Animati...|\n",
            "|      2|      Jumanji (1995)|Adventure|Childre...|\n",
            "|      3|Grumpier Old Men ...|      Comedy|Romance|\n",
            "|      4|Waiting to Exhale...|Comedy|Drama|Romance|\n",
            "|      5|Father of the Bri...|              Comedy|\n",
            "+-------+--------------------+--------------------+\n",
            "only showing top 5 rows\n",
            "\n"
          ]
        }
      ]
    },
    {
      "cell_type": "code",
      "metadata": {
        "id": "REWeAir1zErR"
      },
      "source": [
        "ratings_df.show(5)"
      ],
      "execution_count": null,
      "outputs": []
    },
    {
      "cell_type": "code",
      "metadata": {
        "id": "TLEqnyWgzFzj",
        "colab": {
          "base_uri": "https://localhost:8080/"
        },
        "outputId": "ee719047-8de1-42d9-ca7f-d0cdc1863f11"
      },
      "source": [
        "links_df.show(5)"
      ],
      "execution_count": null,
      "outputs": [
        {
          "output_type": "stream",
          "name": "stdout",
          "text": [
            "+-------+-------+------+\n",
            "|movieId| imdbId|tmdbId|\n",
            "+-------+-------+------+\n",
            "|      1|0114709|   862|\n",
            "|      2|0113497|  8844|\n",
            "|      3|0113228| 15602|\n",
            "|      4|0114885| 31357|\n",
            "|      5|0113041| 11862|\n",
            "+-------+-------+------+\n",
            "only showing top 5 rows\n",
            "\n"
          ]
        }
      ]
    },
    {
      "cell_type": "code",
      "metadata": {
        "id": "kkCiJtjazHiG",
        "colab": {
          "base_uri": "https://localhost:8080/"
        },
        "outputId": "492a5c95-79c1-441b-ed6b-77aa35365220"
      },
      "source": [
        "tags_df.show(5)"
      ],
      "execution_count": null,
      "outputs": [
        {
          "output_type": "stream",
          "name": "stdout",
          "text": [
            "+------+-------+---------------+----------+\n",
            "|userId|movieId|            tag| timestamp|\n",
            "+------+-------+---------------+----------+\n",
            "|     2|  60756|          funny|1445714994|\n",
            "|     2|  60756|Highly quotable|1445714996|\n",
            "|     2|  60756|   will ferrell|1445714992|\n",
            "|     2|  89774|   Boxing story|1445715207|\n",
            "|     2|  89774|            MMA|1445715200|\n",
            "+------+-------+---------------+----------+\n",
            "only showing top 5 rows\n",
            "\n"
          ]
        }
      ]
    },
    {
      "cell_type": "code",
      "metadata": {
        "id": "VeUxQZx1zW51",
        "colab": {
          "base_uri": "https://localhost:8080/"
        },
        "outputId": "b7a21cbb-8aae-4af8-ef57-2f03ef187b86"
      },
      "source": [
        "tmp1 = ratings_df.groupBy(\"userID\").count().toPandas()['count'].min()\n",
        "tmp2 = ratings_df.groupBy(\"movieId\").count().toPandas()['count'].min()\n",
        "print('For the users that rated movies and the movies that were rated:')\n",
        "print('Minimum number of ratings per user is {}'.format(tmp1))\n",
        "print('Minimum number of ratings per movie is {}'.format(tmp2))"
      ],
      "execution_count": null,
      "outputs": [
        {
          "output_type": "stream",
          "name": "stdout",
          "text": [
            "For the users that rated movies and the movies that were rated:\n",
            "Minimum number of ratings per user is 20\n",
            "Minimum number of ratings per movie is 1\n"
          ]
        }
      ]
    },
    {
      "cell_type": "code",
      "metadata": {
        "id": "6mrhUm9Zzh6G",
        "colab": {
          "base_uri": "https://localhost:8080/"
        },
        "outputId": "4ba7a4b5-d243-4423-8f7d-bed0024d1579"
      },
      "source": [
        "tmp1 = sum(ratings_df.groupBy(\"movieId\").count().toPandas()['count'] == 1)\n",
        "tmp2 = ratings_df.select('movieId').distinct().count()\n",
        "print('{} out of {} movies are rated by only one user'.format(tmp1, tmp2))"
      ],
      "execution_count": null,
      "outputs": [
        {
          "output_type": "stream",
          "name": "stdout",
          "text": [
            "3446 out of 9724 movies are rated by only one user\n"
          ]
        }
      ]
    },
    {
      "cell_type": "markdown",
      "metadata": {
        "id": "4t2cH5rw08D-"
      },
      "source": [
        "# Part 1: Spark SQL and OLAP"
      ]
    },
    {
      "cell_type": "code",
      "metadata": {
        "id": "HiH40ORB1Rr9",
        "colab": {
          "base_uri": "https://localhost:8080/"
        },
        "outputId": "a1762346-97e4-4fe8-88bc-28261641b929"
      },
      "source": [
        "movies_df.registerTempTable(\"movies\")\n",
        "ratings_df.registerTempTable(\"ratings\")\n",
        "links_df.registerTempTable(\"links\")\n",
        "tags_df.registerTempTable(\"tags\")"
      ],
      "execution_count": null,
      "outputs": [
        {
          "output_type": "stream",
          "name": "stderr",
          "text": [
            "/usr/local/lib/python3.8/dist-packages/pyspark/sql/dataframe.py:229: FutureWarning: Deprecated in 2.0, use createOrReplaceTempView instead.\n",
            "  warnings.warn(\"Deprecated in 2.0, use createOrReplaceTempView instead.\", FutureWarning)\n"
          ]
        }
      ]
    },
    {
      "cell_type": "markdown",
      "metadata": {
        "id": "EeKYhPR01IHr"
      },
      "source": [
        "### Q1: The number of Users"
      ]
    },
    {
      "cell_type": "code",
      "metadata": {
        "id": "mGnoh18w1F0W",
        "colab": {
          "base_uri": "https://localhost:8080/"
        },
        "outputId": "0b8521b7-383b-4e11-faa9-622ee538efa0"
      },
      "source": [
        "q1_result=spark.sql(\"Select Count(Distinct userId) as Number_of_Users from ratings\")\n",
        "q1_result.show()"
      ],
      "execution_count": null,
      "outputs": [
        {
          "output_type": "stream",
          "name": "stdout",
          "text": [
            "+---------------+\n",
            "|Number_of_Users|\n",
            "+---------------+\n",
            "|            610|\n",
            "+---------------+\n",
            "\n"
          ]
        }
      ]
    },
    {
      "cell_type": "markdown",
      "metadata": {
        "id": "DJsAsrIs4ifx"
      },
      "source": [
        "### Q2: The number of Movies"
      ]
    },
    {
      "cell_type": "code",
      "metadata": {
        "id": "Y7GHP20_4N-5",
        "colab": {
          "base_uri": "https://localhost:8080/"
        },
        "outputId": "2f6337d9-1315-41b8-a102-38ce10b80ce7"
      },
      "source": [
        "q2_result=spark.sql(\"Select Count(movieId) as Number_of_Moives from movies\")\n",
        "q2_result.show()"
      ],
      "execution_count": null,
      "outputs": [
        {
          "output_type": "stream",
          "name": "stdout",
          "text": [
            "+----------------+\n",
            "|Number_of_Moives|\n",
            "+----------------+\n",
            "|            9742|\n",
            "+----------------+\n",
            "\n"
          ]
        }
      ]
    },
    {
      "cell_type": "markdown",
      "metadata": {
        "id": "axRsLKg85DhS"
      },
      "source": [
        "### Q3:  How many movies are rated by users? List movies not rated before"
      ]
    },
    {
      "cell_type": "code",
      "metadata": {
        "id": "TvAnFAkU5Fln",
        "colab": {
          "base_uri": "https://localhost:8080/"
        },
        "outputId": "a621db02-991f-4129-9b6c-87e041fa6965"
      },
      "source": [
        "q3_result_1=spark.sql(\"Select Count(movieId) as Number_of_Rated_Moives From movies Where movieID in (Select movieId From ratings)\")\n",
        "q3_result_1.show()"
      ],
      "execution_count": null,
      "outputs": [
        {
          "output_type": "stream",
          "name": "stdout",
          "text": [
            "+----------------------+\n",
            "|Number_of_Rated_Moives|\n",
            "+----------------------+\n",
            "|                  9724|\n",
            "+----------------------+\n",
            "\n"
          ]
        }
      ]
    },
    {
      "cell_type": "code",
      "metadata": {
        "id": "oGKwmS8J7y1b",
        "colab": {
          "base_uri": "https://localhost:8080/"
        },
        "outputId": "174c8fbe-c116-419a-98b2-b4b5c9ae2a01"
      },
      "source": [
        "q3_result_2=spark.sql(\"Select movieId, title From movies Where movieID not in (Select movieId From ratings)\")\n",
        "q3_result_2.show()"
      ],
      "execution_count": null,
      "outputs": [
        {
          "output_type": "stream",
          "name": "stdout",
          "text": [
            "+-------+--------------------+\n",
            "|movieId|               title|\n",
            "+-------+--------------------+\n",
            "|   1076|Innocents, The (1...|\n",
            "|   2939|      Niagara (1953)|\n",
            "|   3338|For All Mankind (...|\n",
            "|   3456|Color of Paradise...|\n",
            "|   4194|I Know Where I'm ...|\n",
            "|   5721|  Chosen, The (1981)|\n",
            "|   6668|Road Home, The (W...|\n",
            "|   6849|      Scrooge (1970)|\n",
            "|   7020|        Proof (1991)|\n",
            "|   7792|Parallax View, Th...|\n",
            "|   8765|This Gun for Hire...|\n",
            "|  25855|Roaring Twenties,...|\n",
            "|  26085|Mutiny on the Bou...|\n",
            "|  30892|In the Realms of ...|\n",
            "|  32160|Twentieth Century...|\n",
            "|  32371|Call Northside 77...|\n",
            "|  34482|Browning Version,...|\n",
            "|  85565|  Chalet Girl (2011)|\n",
            "+-------+--------------------+\n",
            "\n"
          ]
        }
      ]
    },
    {
      "cell_type": "markdown",
      "metadata": {
        "id": "hDrUzAEA8j3R"
      },
      "source": [
        "### Q4: List Movie Genres"
      ]
    },
    {
      "cell_type": "code",
      "metadata": {
        "id": "quueW6Jl8hBW",
        "colab": {
          "base_uri": "https://localhost:8080/"
        },
        "outputId": "124bda25-8354-4a91-86b4-8a37ff2d448c"
      },
      "source": [
        "q4_result=spark.sql(\"Select Distinct explode(split(genres,'[|]')) as genres From movies Order by 1\")\n",
        "q4_result.show()"
      ],
      "execution_count": null,
      "outputs": [
        {
          "output_type": "stream",
          "name": "stdout",
          "text": [
            "+------------------+\n",
            "|            genres|\n",
            "+------------------+\n",
            "|(no genres listed)|\n",
            "|            Action|\n",
            "|         Adventure|\n",
            "|         Animation|\n",
            "|          Children|\n",
            "|            Comedy|\n",
            "|             Crime|\n",
            "|       Documentary|\n",
            "|             Drama|\n",
            "|           Fantasy|\n",
            "|         Film-Noir|\n",
            "|            Horror|\n",
            "|              IMAX|\n",
            "|           Musical|\n",
            "|           Mystery|\n",
            "|           Romance|\n",
            "|            Sci-Fi|\n",
            "|          Thriller|\n",
            "|               War|\n",
            "|           Western|\n",
            "+------------------+\n",
            "\n"
          ]
        }
      ]
    },
    {
      "cell_type": "markdown",
      "metadata": {
        "id": "z3OUmAESLY__"
      },
      "source": [
        "### Q5: Movie for Each Category"
      ]
    },
    {
      "cell_type": "code",
      "metadata": {
        "id": "t53GMhTrLYcy",
        "colab": {
          "base_uri": "https://localhost:8080/"
        },
        "outputId": "29611b36-36ba-4a60-b3d3-c61d6db36972"
      },
      "source": [
        "q5_result_1=spark.sql(\"Select genres,Count(movieId) as Number_of_Moives From(Select explode(split(genres,'[|]')) as genres, movieId From movies) Group By 1 Order by 2 DESC\")\n",
        "q5_result_1.show()"
      ],
      "execution_count": null,
      "outputs": [
        {
          "output_type": "stream",
          "name": "stdout",
          "text": [
            "+------------------+----------------+\n",
            "|            genres|Number_of_Moives|\n",
            "+------------------+----------------+\n",
            "|             Drama|            4361|\n",
            "|            Comedy|            3756|\n",
            "|          Thriller|            1894|\n",
            "|            Action|            1828|\n",
            "|           Romance|            1596|\n",
            "|         Adventure|            1263|\n",
            "|             Crime|            1199|\n",
            "|            Sci-Fi|             980|\n",
            "|            Horror|             978|\n",
            "|           Fantasy|             779|\n",
            "|          Children|             664|\n",
            "|         Animation|             611|\n",
            "|           Mystery|             573|\n",
            "|       Documentary|             440|\n",
            "|               War|             382|\n",
            "|           Musical|             334|\n",
            "|           Western|             167|\n",
            "|              IMAX|             158|\n",
            "|         Film-Noir|              87|\n",
            "|(no genres listed)|              34|\n",
            "+------------------+----------------+\n",
            "\n"
          ]
        }
      ]
    },
    {
      "cell_type": "code",
      "metadata": {
        "id": "HwPq3juBXk9L",
        "colab": {
          "base_uri": "https://localhost:8080/"
        },
        "outputId": "a69b08b0-32ef-4a73-adca-f8d82947cacc"
      },
      "source": [
        "q5_result_2=spark.sql(\"Select genres, concat_ws(',',collect_set(title)) as list_of_movies From(Select explode(split(genres,'[|]')) as genres, title From movies) Group By 1\")\n",
        "q5_result_2.show()"
      ],
      "execution_count": null,
      "outputs": [
        {
          "output_type": "stream",
          "name": "stdout",
          "text": [
            "+------------------+--------------------+\n",
            "|            genres|      list_of_movies|\n",
            "+------------------+--------------------+\n",
            "|             Crime|Stealing Rembrand...|\n",
            "|           Romance|Vampire in Brookl...|\n",
            "|          Thriller|Element of Crime,...|\n",
            "|         Adventure|Ice Age: Collisio...|\n",
            "|             Drama|Airport '77 (1977...|\n",
            "|               War|General, The (192...|\n",
            "|       Documentary|The Barkley Marat...|\n",
            "|           Fantasy|Masters of the Un...|\n",
            "|           Mystery|Before and After ...|\n",
            "|           Musical|U2: Rattle and Hu...|\n",
            "|         Animation|Ice Age: Collisio...|\n",
            "|         Film-Noir|Rififi (Du rififi...|\n",
            "|(no genres listed)|T2 3-D: Battle Ac...|\n",
            "|              IMAX|Harry Potter and ...|\n",
            "|            Horror|Underworld: Rise ...|\n",
            "|           Western|Man Who Shot Libe...|\n",
            "|            Comedy|Hysteria (2011),H...|\n",
            "|          Children|Ice Age: Collisio...|\n",
            "|            Action|Stealing Rembrand...|\n",
            "|            Sci-Fi|Push (2009),SORI:...|\n",
            "+------------------+--------------------+\n",
            "\n"
          ]
        }
      ]
    },
    {
      "cell_type": "markdown",
      "metadata": {
        "id": "aS11BgUKN8nZ"
      },
      "source": [
        "# Part2: Spark ALS based approach for training model\n",
        "We will use an Spark ML to predict the ratings, so let's reload \"ratings.csv\" using ``sc.textFile`` and then convert it to the form of (user, item, rating) tuples."
      ]
    },
    {
      "cell_type": "code",
      "metadata": {
        "id": "nuoD2YfyQfVq",
        "colab": {
          "base_uri": "https://localhost:8080/"
        },
        "outputId": "68ecf83e-7f5d-4372-fa29-813a385971bc"
      },
      "source": [
        "ratings_df.show()"
      ],
      "execution_count": null,
      "outputs": [
        {
          "output_type": "stream",
          "name": "stdout",
          "text": [
            "+------+-------+------+---------+\n",
            "|userId|movieId|rating|timestamp|\n",
            "+------+-------+------+---------+\n",
            "|     1|      1|   4.0|964982703|\n",
            "|     1|      3|   4.0|964981247|\n",
            "|     1|      6|   4.0|964982224|\n",
            "|     1|     47|   5.0|964983815|\n",
            "|     1|     50|   5.0|964982931|\n",
            "|     1|     70|   3.0|964982400|\n",
            "|     1|    101|   5.0|964980868|\n",
            "|     1|    110|   4.0|964982176|\n",
            "|     1|    151|   5.0|964984041|\n",
            "|     1|    157|   5.0|964984100|\n",
            "|     1|    163|   5.0|964983650|\n",
            "|     1|    216|   5.0|964981208|\n",
            "|     1|    223|   3.0|964980985|\n",
            "|     1|    231|   5.0|964981179|\n",
            "|     1|    235|   4.0|964980908|\n",
            "|     1|    260|   5.0|964981680|\n",
            "|     1|    296|   3.0|964982967|\n",
            "|     1|    316|   3.0|964982310|\n",
            "|     1|    333|   5.0|964981179|\n",
            "|     1|    349|   4.0|964982563|\n",
            "+------+-------+------+---------+\n",
            "only showing top 20 rows\n",
            "\n"
          ]
        }
      ]
    },
    {
      "cell_type": "code",
      "metadata": {
        "id": "-6p0nDibQhKl"
      },
      "source": [
        "movie_ratings=ratings_df.drop('timestamp')"
      ],
      "execution_count": null,
      "outputs": []
    },
    {
      "cell_type": "code",
      "metadata": {
        "id": "Db_Mg8FnQs4y"
      },
      "source": [
        "# Data type convert\n",
        "from pyspark.sql.types import IntegerType, FloatType\n",
        "movie_ratings = movie_ratings.withColumn(\"userId\", movie_ratings[\"userId\"].cast(IntegerType()))\n",
        "movie_ratings = movie_ratings.withColumn(\"movieId\", movie_ratings[\"movieId\"].cast(IntegerType()))\n",
        "movie_ratings = movie_ratings.withColumn(\"rating\", movie_ratings[\"rating\"].cast(FloatType()))"
      ],
      "execution_count": null,
      "outputs": []
    },
    {
      "cell_type": "code",
      "metadata": {
        "id": "q7QagKRAQv49",
        "colab": {
          "base_uri": "https://localhost:8080/"
        },
        "outputId": "85293662-a512-4c0b-f3e2-faaa7c8a752e"
      },
      "source": [
        "movie_ratings.show()"
      ],
      "execution_count": null,
      "outputs": [
        {
          "output_type": "stream",
          "name": "stdout",
          "text": [
            "+------+-------+------+\n",
            "|userId|movieId|rating|\n",
            "+------+-------+------+\n",
            "|     1|      1|   4.0|\n",
            "|     1|      3|   4.0|\n",
            "|     1|      6|   4.0|\n",
            "|     1|     47|   5.0|\n",
            "|     1|     50|   5.0|\n",
            "|     1|     70|   3.0|\n",
            "|     1|    101|   5.0|\n",
            "|     1|    110|   4.0|\n",
            "|     1|    151|   5.0|\n",
            "|     1|    157|   5.0|\n",
            "|     1|    163|   5.0|\n",
            "|     1|    216|   5.0|\n",
            "|     1|    223|   3.0|\n",
            "|     1|    231|   5.0|\n",
            "|     1|    235|   4.0|\n",
            "|     1|    260|   5.0|\n",
            "|     1|    296|   3.0|\n",
            "|     1|    316|   3.0|\n",
            "|     1|    333|   5.0|\n",
            "|     1|    349|   4.0|\n",
            "+------+-------+------+\n",
            "only showing top 20 rows\n",
            "\n"
          ]
        }
      ]
    },
    {
      "cell_type": "markdown",
      "metadata": {
        "id": "IBfAd44cQ0aj"
      },
      "source": [
        "### ALS Model Selection and Evaluation\n",
        "\n",
        "With the ALS model, we can use a grid search to find the optimal hyperparameters."
      ]
    },
    {
      "cell_type": "code",
      "metadata": {
        "id": "Wc9CF4YhQ5fq"
      },
      "source": [
        "# import package\n",
        "from pyspark.ml.evaluation import RegressionEvaluator\n",
        "from pyspark.ml.recommendation import ALS\n",
        "from pyspark.ml.tuning import CrossValidator,ParamGridBuilder"
      ],
      "execution_count": null,
      "outputs": []
    },
    {
      "cell_type": "code",
      "metadata": {
        "id": "rGAdsCyeQ9Tk"
      },
      "source": [
        "#Create test and train set\n",
        "(training,test)=movie_ratings.randomSplit([0.8,0.2])"
      ],
      "execution_count": null,
      "outputs": []
    },
    {
      "cell_type": "code",
      "metadata": {
        "id": "zF7ee7xnQ-kX"
      },
      "source": [
        "#Create ALS model\n",
        "als = ALS(maxIter=5, rank=10, regParam=0.01, userCol=\"userId\", itemCol=\"movieId\", ratingCol=\"rating\",\n",
        "          coldStartStrategy=\"drop\")"
      ],
      "execution_count": null,
      "outputs": []
    },
    {
      "cell_type": "code",
      "metadata": {
        "id": "_RGK-DMt1pzr"
      },
      "source": [
        "#Tune model using ParamGridBuilder\n",
        "paramGrid = (ParamGridBuilder()\n",
        "             .addGrid(als.regParam, [0.05, 0.1, 0.3, 0.5])\n",
        "             .addGrid(als.rank, [5, 10, 15])\n",
        "             .addGrid(als.maxIter, [1, 5, 10])\n",
        "             .build())"
      ],
      "execution_count": null,
      "outputs": []
    },
    {
      "cell_type": "code",
      "metadata": {
        "id": "gaJJLOy52JRM"
      },
      "source": [
        "# Define evaluator as RMSE\n",
        "evaluator = RegressionEvaluator(metricName=\"rmse\", labelCol=\"rating\",\n",
        "                                predictionCol=\"prediction\")"
      ],
      "execution_count": null,
      "outputs": []
    },
    {
      "cell_type": "code",
      "metadata": {
        "id": "dOvSBHqP2PxU"
      },
      "source": [
        "# Build Cross validation \n",
        "cv = CrossValidator(estimator=als, estimatorParamMaps=paramGrid, evaluator=evaluator, numFolds=5)"
      ],
      "execution_count": null,
      "outputs": []
    },
    {
      "cell_type": "code",
      "metadata": {
        "id": "U_UTTdDa2ZsJ"
      },
      "source": [
        "#Fit ALS model to training data\n",
        "cvModel = cv.fit(training)"
      ],
      "execution_count": null,
      "outputs": []
    },
    {
      "cell_type": "code",
      "metadata": {
        "id": "v7V39t2U2dd1"
      },
      "source": [
        "#Extract best model from the tuning exercise using ParamGridBuilder\n",
        "bestModel=cvModel.bestModel"
      ],
      "execution_count": null,
      "outputs": []
    },
    {
      "cell_type": "markdown",
      "metadata": {
        "id": "XsL-ufvNz_oP"
      },
      "source": [
        "### Model testing\n",
        "And finally, make a prediction and check the testing error."
      ]
    },
    {
      "cell_type": "code",
      "metadata": {
        "id": "1DSbaAr_0Jc3"
      },
      "source": [
        "#Generate predictions and evaluate using RMSE\n",
        "predictions=bestModel.transform(test)\n",
        "rmse = evaluator.evaluate(predictions)"
      ],
      "execution_count": null,
      "outputs": []
    },
    {
      "cell_type": "code",
      "metadata": {
        "id": "i6F_F4br0OpL",
        "colab": {
          "base_uri": "https://localhost:8080/"
        },
        "outputId": "3868a3dc-c571-4e3d-8320-ad98b10d2c74"
      },
      "source": [
        "#Print evaluation metrics and model parameters\n",
        "print (\"RMSE = \"+str(rmse))\n",
        "print (\"**Best Model**\")\n",
        "print (\" Rank: \", str(bestModel._java_obj.parent().getRank())),\n",
        "print (\" MaxIter: \", str(bestModel._java_obj.parent().getMaxIter())), \n",
        "print (\" RegParam: \", str(bestModel._java_obj.parent().getRegParam()))"
      ],
      "execution_count": null,
      "outputs": [
        {
          "output_type": "stream",
          "name": "stdout",
          "text": [
            "RMSE = 0.885871595187709\n",
            "**Best Model**\n",
            " Rank:  5\n",
            " MaxIter:  10\n",
            " RegParam:  0.1\n"
          ]
        }
      ]
    },
    {
      "cell_type": "code",
      "metadata": {
        "id": "QLjY6-OC5HIP",
        "colab": {
          "base_uri": "https://localhost:8080/"
        },
        "outputId": "51613080-b383-42db-8b9e-6507dc0787fb"
      },
      "source": [
        "predictions.show()"
      ],
      "execution_count": null,
      "outputs": [
        {
          "output_type": "stream",
          "name": "stdout",
          "text": [
            "+------+-------+------+----------+\n",
            "|userId|movieId|rating|prediction|\n",
            "+------+-------+------+----------+\n",
            "|   322|   1580|   3.5| 3.1772356|\n",
            "|   362|   1645|   5.0| 3.7667787|\n",
            "|   368|   2122|   2.0| 2.4446008|\n",
            "|   368|   2366|   4.0| 3.1004581|\n",
            "|   385|    471|   4.0| 3.1240013|\n",
            "|    28|   1580|   3.0| 2.8128936|\n",
            "|   577|   1959|   4.0| 3.3411753|\n",
            "|   271|   6658|   2.0| 3.0011191|\n",
            "|   606|   1088|   3.0| 3.4075859|\n",
            "|   606|   1580|   2.5| 3.1243372|\n",
            "|   602|    471|   4.0| 2.9878833|\n",
            "|   233|   1580|   3.0| 2.8116512|\n",
            "|   599|   4519|   2.5| 2.6403553|\n",
            "|   111|   4900|   4.0| 1.0384103|\n",
            "|   325|   3918|   4.0| 3.2924266|\n",
            "|   603|    471|   4.0| 3.0710413|\n",
            "|   603|   3175|   4.0| 3.3628101|\n",
            "|   274|   1645|   3.5| 3.1295524|\n",
            "|   182|   1591|   3.5| 2.9039283|\n",
            "|   280|   1580|   3.5| 3.3831246|\n",
            "+------+-------+------+----------+\n",
            "only showing top 20 rows\n",
            "\n"
          ]
        }
      ]
    },
    {
      "cell_type": "markdown",
      "metadata": {
        "id": "rD63B3RE5JdX"
      },
      "source": [
        "### Model apply and see the performance"
      ]
    },
    {
      "cell_type": "code",
      "metadata": {
        "id": "-ma-QzXv5KQ1",
        "colab": {
          "base_uri": "https://localhost:8080/"
        },
        "outputId": "1273c03b-395c-41d5-daf2-1474af7a148c"
      },
      "source": [
        "alldata=bestModel.transform(movie_ratings)\n",
        "rmse = evaluator.evaluate(alldata)\n",
        "print (\"RMSE = \"+str(rmse))"
      ],
      "execution_count": null,
      "outputs": [
        {
          "output_type": "stream",
          "name": "stdout",
          "text": [
            "RMSE = 0.6930758075485765\n"
          ]
        }
      ]
    },
    {
      "cell_type": "code",
      "metadata": {
        "id": "glJ7XjAk5P--"
      },
      "source": [
        "alldata.registerTempTable(\"alldata\")"
      ],
      "execution_count": null,
      "outputs": []
    },
    {
      "cell_type": "code",
      "metadata": {
        "id": "BW0908ad5R42",
        "colab": {
          "base_uri": "https://localhost:8080/"
        },
        "outputId": "942ad5e1-6102-4da2-836a-9fe2f3d95c48"
      },
      "source": [
        "spark.sql(\"Select * From alldata\").show()"
      ],
      "execution_count": null,
      "outputs": [
        {
          "output_type": "stream",
          "name": "stdout",
          "text": [
            "+------+-------+------+----------+\n",
            "|userId|movieId|rating|prediction|\n",
            "+------+-------+------+----------+\n",
            "|   463|   1088|   3.5| 3.3877974|\n",
            "|   137|   1580|   3.5| 3.3047454|\n",
            "|   580|   1580|   4.0| 3.4698448|\n",
            "|   580|   3175|   2.5| 3.3819396|\n",
            "|   580|  44022|   3.5| 3.5123177|\n",
            "|   133|    471|   4.0| 3.1618068|\n",
            "|   322|   1580|   3.5|  3.201402|\n",
            "|   362|   1591|   4.0|  3.415715|\n",
            "|   362|   1645|   5.0|  3.723431|\n",
            "|   593|   1580|   1.5|  2.692228|\n",
            "|   597|    471|   2.0| 4.6544437|\n",
            "|   597|   1580|   3.0| 3.5797641|\n",
            "|   597|   1959|   4.0| 3.7440372|\n",
            "|   597|   2366|   5.0| 4.1643567|\n",
            "|   108|   1959|   5.0| 3.8643773|\n",
            "|   155|   1580|   4.0| 3.6800473|\n",
            "|   155|   3175|   4.0| 3.4354799|\n",
            "|    34|   1580|   2.5| 3.1021104|\n",
            "|    34|   3997|   2.0| 1.9403317|\n",
            "|   368|   1580|   3.0| 2.9284894|\n",
            "+------+-------+------+----------+\n",
            "only showing top 20 rows\n",
            "\n"
          ]
        }
      ]
    },
    {
      "cell_type": "code",
      "metadata": {
        "id": "hmVDrwsD5TYY",
        "colab": {
          "base_uri": "https://localhost:8080/"
        },
        "outputId": "a77f0997-c76d-46c4-efdd-55982baa7bd7"
      },
      "source": [
        "spark.sql(\"select * from movies join alldata on movies.movieId=alldata.movieId\").show()"
      ],
      "execution_count": null,
      "outputs": [
        {
          "output_type": "stream",
          "name": "stdout",
          "text": [
            "+-------+--------------------+--------------------+------+-------+------+----------+\n",
            "|movieId|               title|              genres|userId|movieId|rating|prediction|\n",
            "+-------+--------------------+--------------------+------+-------+------+----------+\n",
            "|   1088|Dirty Dancing (1987)|Drama|Musical|Rom...|   463|   1088|   3.5| 3.3877974|\n",
            "|   1580|Men in Black (a.k...|Action|Comedy|Sci-Fi|   137|   1580|   3.5| 3.3047454|\n",
            "|   1580|Men in Black (a.k...|Action|Comedy|Sci-Fi|   580|   1580|   4.0| 3.4698448|\n",
            "|   3175| Galaxy Quest (1999)|Adventure|Comedy|...|   580|   3175|   2.5| 3.3819396|\n",
            "|  44022|Ice Age 2: The Me...|Adventure|Animati...|   580|  44022|   3.5| 3.5123177|\n",
            "|    471|Hudsucker Proxy, ...|              Comedy|   133|    471|   4.0| 3.1618068|\n",
            "|   1580|Men in Black (a.k...|Action|Comedy|Sci-Fi|   322|   1580|   3.5|  3.201402|\n",
            "|   1591|        Spawn (1997)|Action|Adventure|...|   362|   1591|   4.0|  3.415715|\n",
            "|   1645|The Devil's Advoc...|Drama|Mystery|Thr...|   362|   1645|   5.0|  3.723431|\n",
            "|   1580|Men in Black (a.k...|Action|Comedy|Sci-Fi|   593|   1580|   1.5|  2.692228|\n",
            "|    471|Hudsucker Proxy, ...|              Comedy|   597|    471|   2.0| 4.6544437|\n",
            "|   1580|Men in Black (a.k...|Action|Comedy|Sci-Fi|   597|   1580|   3.0| 3.5797641|\n",
            "|   1959|Out of Africa (1985)|       Drama|Romance|   597|   1959|   4.0| 3.7440372|\n",
            "|   2366|    King Kong (1933)|Action|Adventure|...|   597|   2366|   5.0| 4.1643567|\n",
            "|   1959|Out of Africa (1985)|       Drama|Romance|   108|   1959|   5.0| 3.8643773|\n",
            "|   1580|Men in Black (a.k...|Action|Comedy|Sci-Fi|   155|   1580|   4.0| 3.6800473|\n",
            "|   3175| Galaxy Quest (1999)|Adventure|Comedy|...|   155|   3175|   4.0| 3.4354799|\n",
            "|   1580|Men in Black (a.k...|Action|Comedy|Sci-Fi|    34|   1580|   2.5| 3.1021104|\n",
            "|   3997|Dungeons & Dragon...|Action|Adventure|...|    34|   3997|   2.0| 1.9403317|\n",
            "|   1580|Men in Black (a.k...|Action|Comedy|Sci-Fi|   368|   1580|   3.0| 2.9284894|\n",
            "+-------+--------------------+--------------------+------+-------+------+----------+\n",
            "only showing top 20 rows\n",
            "\n"
          ]
        }
      ]
    },
    {
      "cell_type": "markdown",
      "metadata": {
        "id": "UGITMi8k5uOx"
      },
      "source": [
        "# Recommend moives to users with id: 575, 232. \n",
        "you can choose some users to recommend the moives "
      ]
    },
    {
      "cell_type": "code",
      "metadata": {
        "id": "QjBgEltJ5rYw",
        "colab": {
          "base_uri": "https://localhost:8080/"
        },
        "outputId": "f0fc9d84-eefd-46e2-da03-42c7db14be12"
      },
      "source": [
        "!pip install koalas\n",
        "import databricks.koalas as ks"
      ],
      "execution_count": null,
      "outputs": [
        {
          "output_type": "stream",
          "name": "stdout",
          "text": [
            "Looking in indexes: https://pypi.org/simple, https://us-python.pkg.dev/colab-wheels/public/simple/\n",
            "Collecting koalas\n",
            "  Downloading koalas-1.8.2-py3-none-any.whl (390 kB)\n",
            "\u001b[K     |████████████████████████████████| 390 kB 5.8 MB/s \n",
            "\u001b[?25hRequirement already satisfied: numpy>=1.14 in /usr/local/lib/python3.8/dist-packages (from koalas) (1.21.6)\n",
            "Requirement already satisfied: pandas>=0.23.2 in /usr/local/lib/python3.8/dist-packages (from koalas) (1.3.5)\n",
            "Requirement already satisfied: pyarrow>=0.10 in /usr/local/lib/python3.8/dist-packages (from koalas) (9.0.0)\n",
            "Requirement already satisfied: python-dateutil>=2.7.3 in /usr/local/lib/python3.8/dist-packages (from pandas>=0.23.2->koalas) (2.8.2)\n",
            "Requirement already satisfied: pytz>=2017.3 in /usr/local/lib/python3.8/dist-packages (from pandas>=0.23.2->koalas) (2022.6)\n",
            "Requirement already satisfied: six>=1.5 in /usr/local/lib/python3.8/dist-packages (from python-dateutil>=2.7.3->pandas>=0.23.2->koalas) (1.15.0)\n",
            "Installing collected packages: koalas\n",
            "Successfully installed koalas-1.8.2\n"
          ]
        },
        {
          "output_type": "stream",
          "name": "stderr",
          "text": [
            "WARNING:root:Found pyspark version \"3.3.1\" installed. The pyspark version 3.2 and above has a built-in \"pandas APIs on Spark\" module ported from Koalas. Try `import pyspark.pandas as ps` instead. \n",
            "WARNING:root:'PYARROW_IGNORE_TIMEZONE' environment variable was not set. It is required to set this environment variable to '1' in both driver and executor sides if you use pyarrow>=2.0.0. Koalas will set it for you but it does not work if there is a Spark context already launched.\n"
          ]
        }
      ]
    },
    {
      "cell_type": "code",
      "metadata": {
        "id": "x7RiuDiAmbvo"
      },
      "source": [
        "userRecs = bestModel.recommendForAllUsers(10)"
      ],
      "execution_count": null,
      "outputs": []
    },
    {
      "cell_type": "code",
      "metadata": {
        "id": "MPZtigjZtQFu"
      },
      "source": [
        "userRecs_ks=userRecs.to_koalas()\n",
        "movies_ks=movies_df.to_koalas()"
      ],
      "execution_count": null,
      "outputs": []
    },
    {
      "cell_type": "code",
      "metadata": {
        "id": "hvS9bfm6uEmq"
      },
      "source": [
        "def movieRecommendation(inputId):\n",
        "  recs_list=[]\n",
        "  for recs in userRecs_ks.loc[str(inputId), 'recommendations']:\n",
        "    recs_list.append(str(recs[0]))\n",
        "  return (movies_ks[movies_ks['movieId'].isin(recs_list)])"
      ],
      "execution_count": null,
      "outputs": []
    },
    {
      "cell_type": "code",
      "source": [
        "spark.sql(\"select * from movies join alldata on movies.movieId=alldata.movieId where userId = 575 order by rating desc limit 10\").show()"
      ],
      "metadata": {
        "colab": {
          "base_uri": "https://localhost:8080/"
        },
        "id": "lY59sXU4XeZv",
        "outputId": "9663c1ce-b9a8-4fe9-bfcd-79c134260609"
      },
      "execution_count": null,
      "outputs": [
        {
          "output_type": "stream",
          "name": "stdout",
          "text": [
            "+-------+--------------------+--------------------+------+-------+------+----------+\n",
            "|movieId|               title|              genres|userId|movieId|rating|prediction|\n",
            "+-------+--------------------+--------------------+------+-------+------+----------+\n",
            "|    296| Pulp Fiction (1994)|Comedy|Crime|Dram...|   575|    296|   5.0| 4.7860193|\n",
            "|    430|Calendar Girl (1993)|        Comedy|Drama|   575|    430|   5.0|  4.916182|\n",
            "|   1259|  Stand by Me (1986)|     Adventure|Drama|   575|   1259|   5.0|    4.2128|\n",
            "|   2542|Lock, Stock & Two...|Comedy|Crime|Thri...|   575|   2542|   5.0|  4.251685|\n",
            "|   2622|William Shakespea...|      Comedy|Fantasy|   575|   2622|   5.0| 3.6177497|\n",
            "|   2506|Other Sister, The...|Comedy|Drama|Romance|   575|   2506|   4.0| 3.8715992|\n",
            "|   2567|         EDtv (1999)|              Comedy|   575|   2567|   4.0| 3.3972707|\n",
            "|   2568|Mod Squad, The (1...|        Action|Crime|   575|   2568|   4.0| 1.3859453|\n",
            "|   2571|  Matrix, The (1999)|Action|Sci-Fi|Thr...|   575|   2571|   4.0|  4.331165|\n",
            "|   2580|           Go (1999)|        Comedy|Crime|   575|   2580|   4.0| 3.9057074|\n",
            "+-------+--------------------+--------------------+------+-------+------+----------+\n",
            "\n"
          ]
        }
      ]
    },
    {
      "cell_type": "code",
      "metadata": {
        "id": "1AF0nPOfyYFi",
        "colab": {
          "base_uri": "https://localhost:8080/",
          "height": 381
        },
        "outputId": "aacdf5de-dfc1-49a4-c7dd-9ef920a7925b"
      },
      "source": [
        "print(\"Recommended movies for user with id '575' are as follows.\")\n",
        "movieRecommendation(575)"
      ],
      "execution_count": null,
      "outputs": [
        {
          "output_type": "stream",
          "name": "stdout",
          "text": [
            "Recommended movies for user with id '575' are as follows.\n"
          ]
        },
        {
          "output_type": "execute_result",
          "data": {
            "text/plain": [
              "     movieId                                                    title                genres\n",
              "27        28                                        Persuasion (1995)         Drama|Romance\n",
              "932     1232                                           Stalker (1979)  Drama|Mystery|Sci-Fi\n",
              "3749    5222                             Kissing Jessica Stein (2001)        Comedy|Romance\n",
              "4590    6818                       Come and See (Idi i smotri) (1985)             Drama|War\n",
              "5202    8477                                         Jetée, La (1962)        Romance|Sci-Fi\n",
              "6051   40491  Match Factory Girl, The (Tulitikkutehtaan tyttö) (1990)          Comedy|Drama\n",
              "6697   58301                                  Funny Games U.S. (2007)        Drama|Thriller\n",
              "7277   74754                                         Room, The (2003)  Comedy|Drama|Romance\n",
              "7567   85774                                             Senna (2010)           Documentary\n",
              "9170  148881                                 World of Tomorrow (2015)      Animation|Comedy"
            ],
            "text/html": [
              "<div>\n",
              "<style scoped>\n",
              "    .dataframe tbody tr th:only-of-type {\n",
              "        vertical-align: middle;\n",
              "    }\n",
              "\n",
              "    .dataframe tbody tr th {\n",
              "        vertical-align: top;\n",
              "    }\n",
              "\n",
              "    .dataframe thead th {\n",
              "        text-align: right;\n",
              "    }\n",
              "</style>\n",
              "<table border=\"1\" class=\"dataframe\">\n",
              "  <thead>\n",
              "    <tr style=\"text-align: right;\">\n",
              "      <th></th>\n",
              "      <th>movieId</th>\n",
              "      <th>title</th>\n",
              "      <th>genres</th>\n",
              "    </tr>\n",
              "  </thead>\n",
              "  <tbody>\n",
              "    <tr>\n",
              "      <th>27</th>\n",
              "      <td>28</td>\n",
              "      <td>Persuasion (1995)</td>\n",
              "      <td>Drama|Romance</td>\n",
              "    </tr>\n",
              "    <tr>\n",
              "      <th>932</th>\n",
              "      <td>1232</td>\n",
              "      <td>Stalker (1979)</td>\n",
              "      <td>Drama|Mystery|Sci-Fi</td>\n",
              "    </tr>\n",
              "    <tr>\n",
              "      <th>3749</th>\n",
              "      <td>5222</td>\n",
              "      <td>Kissing Jessica Stein (2001)</td>\n",
              "      <td>Comedy|Romance</td>\n",
              "    </tr>\n",
              "    <tr>\n",
              "      <th>4590</th>\n",
              "      <td>6818</td>\n",
              "      <td>Come and See (Idi i smotri) (1985)</td>\n",
              "      <td>Drama|War</td>\n",
              "    </tr>\n",
              "    <tr>\n",
              "      <th>5202</th>\n",
              "      <td>8477</td>\n",
              "      <td>Jetée, La (1962)</td>\n",
              "      <td>Romance|Sci-Fi</td>\n",
              "    </tr>\n",
              "    <tr>\n",
              "      <th>6051</th>\n",
              "      <td>40491</td>\n",
              "      <td>Match Factory Girl, The (Tulitikkutehtaan tytt...</td>\n",
              "      <td>Comedy|Drama</td>\n",
              "    </tr>\n",
              "    <tr>\n",
              "      <th>6697</th>\n",
              "      <td>58301</td>\n",
              "      <td>Funny Games U.S. (2007)</td>\n",
              "      <td>Drama|Thriller</td>\n",
              "    </tr>\n",
              "    <tr>\n",
              "      <th>7277</th>\n",
              "      <td>74754</td>\n",
              "      <td>Room, The (2003)</td>\n",
              "      <td>Comedy|Drama|Romance</td>\n",
              "    </tr>\n",
              "    <tr>\n",
              "      <th>7567</th>\n",
              "      <td>85774</td>\n",
              "      <td>Senna (2010)</td>\n",
              "      <td>Documentary</td>\n",
              "    </tr>\n",
              "    <tr>\n",
              "      <th>9170</th>\n",
              "      <td>148881</td>\n",
              "      <td>World of Tomorrow (2015)</td>\n",
              "      <td>Animation|Comedy</td>\n",
              "    </tr>\n",
              "  </tbody>\n",
              "</table>\n",
              "</div>"
            ]
          },
          "metadata": {},
          "execution_count": 57
        }
      ]
    },
    {
      "cell_type": "code",
      "source": [
        "spark.sql(\"select * from movies join alldata on movies.movieId=alldata.movieId where userId = 232 order by rating desc limit 10\").show()"
      ],
      "metadata": {
        "colab": {
          "base_uri": "https://localhost:8080/"
        },
        "id": "1FibBey0Zyk2",
        "outputId": "e598910e-ffec-4889-9981-0944e0e3affe"
      },
      "execution_count": null,
      "outputs": [
        {
          "output_type": "stream",
          "name": "stdout",
          "text": [
            "+-------+--------------------+--------------------+------+-------+------+----------+\n",
            "|movieId|               title|              genres|userId|movieId|rating|prediction|\n",
            "+-------+--------------------+--------------------+------+-------+------+----------+\n",
            "|   5152|We Were Soldiers ...|    Action|Drama|War|   232|   5152|   5.0|  3.749648|\n",
            "|   8533|Notebook, The (2004)|       Drama|Romance|   232|   8533|   5.0|  3.324488|\n",
            "|   1210|Star Wars: Episod...|Action|Adventure|...|   232|   1210|   5.0|  3.923171|\n",
            "|   3147|Green Mile, The (...|         Crime|Drama|   232|   3147|   5.0|  3.835532|\n",
            "|   4226|      Memento (2000)|    Mystery|Thriller|   232|   4226|   5.0| 4.0841336|\n",
            "|    296| Pulp Fiction (1994)|Comedy|Crime|Dram...|   232|    296|   5.0|   3.97758|\n",
            "|  79132|    Inception (2010)|Action|Crime|Dram...|   232|  79132|   5.0|  4.102435|\n",
            "|   2329|American History ...|         Crime|Drama|   232|   2329|   5.0| 4.0944633|\n",
            "|  69757|(500) Days of Sum...|Comedy|Drama|Romance|   232|  69757|   5.0| 3.7989593|\n",
            "|    318|Shawshank Redempt...|         Crime|Drama|   232|    318|   5.0| 4.1340766|\n",
            "+-------+--------------------+--------------------+------+-------+------+----------+\n",
            "\n"
          ]
        }
      ]
    },
    {
      "cell_type": "code",
      "metadata": {
        "id": "Jkh88v1uzBy5",
        "colab": {
          "base_uri": "https://localhost:8080/",
          "height": 381
        },
        "outputId": "35471193-2c9f-4222-a4e1-c7269faab806"
      },
      "source": [
        "print(\"Recommended movies for user with id '232' are as follows.\")\n",
        "movieRecommendation(232)"
      ],
      "execution_count": null,
      "outputs": [
        {
          "output_type": "stream",
          "name": "stdout",
          "text": [
            "Recommended movies for user with id '232' are as follows.\n"
          ]
        },
        {
          "output_type": "execute_result",
          "data": {
            "text/plain": [
              "     movieId                                                               title                 genres\n",
              "3320    4495                                            Crossing Delancey (1988)         Comedy|Romance\n",
              "4251    6201                                                    Lady Jane (1986)          Drama|Romance\n",
              "5025    7815                                                 True Stories (1986)         Comedy|Musical\n",
              "5136    8235                                                 Safety Last! (1923)  Action|Comedy|Romance\n",
              "5489   26326                     Holy Mountain, The (Montaña sagrada, La) (1973)                  Drama\n",
              "5867   32892  Ivan's Childhood (a.k.a. My Name is Ivan) (Ivanovo detstvo) (1962)              Drama|War\n",
              "5906   33649                                                  Saving Face (2004)   Comedy|Drama|Romance\n",
              "7812   92494                                         Dylan Moran: Monster (2004)     Comedy|Documentary\n",
              "8154  102217                                      Bill Hicks: Revelations (1993)                 Comedy\n",
              "9618  177593                    Three Billboards Outside Ebbing, Missouri (2017)            Crime|Drama"
            ],
            "text/html": [
              "<div>\n",
              "<style scoped>\n",
              "    .dataframe tbody tr th:only-of-type {\n",
              "        vertical-align: middle;\n",
              "    }\n",
              "\n",
              "    .dataframe tbody tr th {\n",
              "        vertical-align: top;\n",
              "    }\n",
              "\n",
              "    .dataframe thead th {\n",
              "        text-align: right;\n",
              "    }\n",
              "</style>\n",
              "<table border=\"1\" class=\"dataframe\">\n",
              "  <thead>\n",
              "    <tr style=\"text-align: right;\">\n",
              "      <th></th>\n",
              "      <th>movieId</th>\n",
              "      <th>title</th>\n",
              "      <th>genres</th>\n",
              "    </tr>\n",
              "  </thead>\n",
              "  <tbody>\n",
              "    <tr>\n",
              "      <th>3320</th>\n",
              "      <td>4495</td>\n",
              "      <td>Crossing Delancey (1988)</td>\n",
              "      <td>Comedy|Romance</td>\n",
              "    </tr>\n",
              "    <tr>\n",
              "      <th>4251</th>\n",
              "      <td>6201</td>\n",
              "      <td>Lady Jane (1986)</td>\n",
              "      <td>Drama|Romance</td>\n",
              "    </tr>\n",
              "    <tr>\n",
              "      <th>5025</th>\n",
              "      <td>7815</td>\n",
              "      <td>True Stories (1986)</td>\n",
              "      <td>Comedy|Musical</td>\n",
              "    </tr>\n",
              "    <tr>\n",
              "      <th>5136</th>\n",
              "      <td>8235</td>\n",
              "      <td>Safety Last! (1923)</td>\n",
              "      <td>Action|Comedy|Romance</td>\n",
              "    </tr>\n",
              "    <tr>\n",
              "      <th>5489</th>\n",
              "      <td>26326</td>\n",
              "      <td>Holy Mountain, The (Montaña sagrada, La) (1973)</td>\n",
              "      <td>Drama</td>\n",
              "    </tr>\n",
              "    <tr>\n",
              "      <th>5867</th>\n",
              "      <td>32892</td>\n",
              "      <td>Ivan's Childhood (a.k.a. My Name is Ivan) (Iva...</td>\n",
              "      <td>Drama|War</td>\n",
              "    </tr>\n",
              "    <tr>\n",
              "      <th>5906</th>\n",
              "      <td>33649</td>\n",
              "      <td>Saving Face (2004)</td>\n",
              "      <td>Comedy|Drama|Romance</td>\n",
              "    </tr>\n",
              "    <tr>\n",
              "      <th>7812</th>\n",
              "      <td>92494</td>\n",
              "      <td>Dylan Moran: Monster (2004)</td>\n",
              "      <td>Comedy|Documentary</td>\n",
              "    </tr>\n",
              "    <tr>\n",
              "      <th>8154</th>\n",
              "      <td>102217</td>\n",
              "      <td>Bill Hicks: Revelations (1993)</td>\n",
              "      <td>Comedy</td>\n",
              "    </tr>\n",
              "    <tr>\n",
              "      <th>9618</th>\n",
              "      <td>177593</td>\n",
              "      <td>Three Billboards Outside Ebbing, Missouri (2017)</td>\n",
              "      <td>Crime|Drama</td>\n",
              "    </tr>\n",
              "  </tbody>\n",
              "</table>\n",
              "</div>"
            ]
          },
          "metadata": {},
          "execution_count": 35
        }
      ]
    },
    {
      "cell_type": "markdown",
      "metadata": {
        "id": "61xZKXPt56iN"
      },
      "source": [
        "# Find the similar moives for moive with id: 463, 471\n",
        "\n",
        "1.   列表项\n",
        "2.   列表项\n",
        "\n",
        "\n",
        "You can find the similar moives based on the ALS results"
      ]
    },
    {
      "cell_type": "code",
      "metadata": {
        "id": "NOjlGTU55ul3"
      },
      "source": [
        "itemFactors=bestModel.itemFactors.to_koalas()"
      ],
      "execution_count": null,
      "outputs": []
    },
    {
      "cell_type": "code",
      "metadata": {
        "id": "US_SOIfa_NhK"
      },
      "source": [
        "def similarMovies(inputId, matrix='cosine_similarity'):\n",
        "  try:\n",
        "    movieFeature=itemFactors.loc[itemFactors.id==str(inputId),'features'].to_numpy()[0]\n",
        "  except:\n",
        "    return 'There is no movie with id ' + str(inputId)\n",
        "  \n",
        "  if matrix=='cosine_similarity':\n",
        "    similarMovie=pd.DataFrame(columns=('movieId','cosine_similarity'))\n",
        "    for id,feature in itemFactors.to_numpy():\n",
        "      cs=np.dot(movieFeature,feature)/(np.linalg.norm(movieFeature) * np.linalg.norm(feature))\n",
        "      similarMovie=similarMovie.append({'movieId':str(id), 'cosine_similarity':cs}, ignore_index=True)\n",
        "    similarMovie_cs=similarMovie.sort_values(by=['cosine_similarity'],ascending = False)[1:11]\n",
        "    joint=similarMovie_cs.merge(movies_ks.to_pandas(), left_on='movieId', right_on = 'movieId', how = 'inner')\n",
        "  if matrix=='euclidean_distance':\n",
        "    similarMovie=pd.DataFrame(columns=('movieId','euclidean_distance'))\n",
        "    for id,feature in itemFactors.to_numpy():\n",
        "      ed=np.linalg.norm(np.array(movieFeature)-np.array(feature))\n",
        "      similarMovie=similarMovie.append({'movieId':str(id), 'euclidean_distance':ed}, ignore_index=True)\n",
        "    similarMovie_ed=similarMovie.sort_values(by=['euclidean_distance'])[1:11]\n",
        "    joint=similarMovie_ed.merge(movies_ks.to_pandas(), left_on='movieId', right_on = 'movieId', how = 'inner')\n",
        "  return joint[['movieId','title','genres']]"
      ],
      "execution_count": null,
      "outputs": []
    },
    {
      "cell_type": "code",
      "metadata": {
        "id": "8m5-p580csIF",
        "colab": {
          "base_uri": "https://localhost:8080/"
        },
        "outputId": "c20fa967-9966-487c-e35b-a64c4b3b2532"
      },
      "source": [
        "print(similarMovies(463))"
      ],
      "execution_count": null,
      "outputs": [
        {
          "output_type": "stream",
          "name": "stdout",
          "text": [
            "There is no movie with id 463\n"
          ]
        }
      ]
    },
    {
      "cell_type": "code",
      "source": [
        "spark.sql(\"select movies.movieId, title, genres from movies join alldata on movies.movieId=alldata.movieId where movies.movieId = 471 limit 1\").show()"
      ],
      "metadata": {
        "colab": {
          "base_uri": "https://localhost:8080/"
        },
        "id": "wTxB_6I5cA49",
        "outputId": "4eec843e-a24e-402d-82ac-eb6f38486c97"
      },
      "execution_count": null,
      "outputs": [
        {
          "output_type": "stream",
          "name": "stdout",
          "text": [
            "+-------+--------------------+------+\n",
            "|movieId|               title|genres|\n",
            "+-------+--------------------+------+\n",
            "|    471|Hudsucker Proxy, ...|Comedy|\n",
            "+-------+--------------------+------+\n",
            "\n"
          ]
        }
      ]
    },
    {
      "cell_type": "code",
      "metadata": {
        "id": "f3s4fpXdURzy",
        "colab": {
          "base_uri": "https://localhost:8080/",
          "height": 381
        },
        "outputId": "13ea2d3b-dcce-4766-d42a-a674f71537a2"
      },
      "source": [
        "print('Similar movies based on cosine similarity matrix are as follows.')\n",
        "similarMovies(471, 'cosine_similarity')"
      ],
      "execution_count": null,
      "outputs": [
        {
          "output_type": "stream",
          "name": "stdout",
          "text": [
            "Similar movies based on cosine similarity matrix are as follows.\n"
          ]
        },
        {
          "output_type": "execute_result",
          "data": {
            "text/plain": [
              "  movieId                                        title  \\\n",
              "0    5782  Professional, The (Le professionnel) (1981)   \n",
              "1    3398           Muppets Take Manhattan, The (1984)   \n",
              "2     151                               Rob Roy (1995)   \n",
              "3    4047                            Gettysburg (1993)   \n",
              "4      25                     Leaving Las Vegas (1995)   \n",
              "5   48342        Conversations with Other Women (2005)   \n",
              "6     482                           Killing Zoe (1994)   \n",
              "7  160567        Mike & Dave Need Wedding Dates (2016)   \n",
              "8     900                 American in Paris, An (1951)   \n",
              "9   37720           Exorcism of Emily Rose, The (2005)   \n",
              "\n",
              "                        genres  \n",
              "0        Action|Drama|Thriller  \n",
              "1      Children|Comedy|Musical  \n",
              "2     Action|Drama|Romance|War  \n",
              "3                    Drama|War  \n",
              "4                Drama|Romance  \n",
              "5         Comedy|Drama|Romance  \n",
              "6         Crime|Drama|Thriller  \n",
              "7                       Comedy  \n",
              "8              Musical|Romance  \n",
              "9  Crime|Drama|Horror|Thriller  "
            ],
            "text/html": [
              "\n",
              "  <div id=\"df-01a39460-c9df-4219-a671-f4f3e333a77d\">\n",
              "    <div class=\"colab-df-container\">\n",
              "      <div>\n",
              "<style scoped>\n",
              "    .dataframe tbody tr th:only-of-type {\n",
              "        vertical-align: middle;\n",
              "    }\n",
              "\n",
              "    .dataframe tbody tr th {\n",
              "        vertical-align: top;\n",
              "    }\n",
              "\n",
              "    .dataframe thead th {\n",
              "        text-align: right;\n",
              "    }\n",
              "</style>\n",
              "<table border=\"1\" class=\"dataframe\">\n",
              "  <thead>\n",
              "    <tr style=\"text-align: right;\">\n",
              "      <th></th>\n",
              "      <th>movieId</th>\n",
              "      <th>title</th>\n",
              "      <th>genres</th>\n",
              "    </tr>\n",
              "  </thead>\n",
              "  <tbody>\n",
              "    <tr>\n",
              "      <th>0</th>\n",
              "      <td>5782</td>\n",
              "      <td>Professional, The (Le professionnel) (1981)</td>\n",
              "      <td>Action|Drama|Thriller</td>\n",
              "    </tr>\n",
              "    <tr>\n",
              "      <th>1</th>\n",
              "      <td>3398</td>\n",
              "      <td>Muppets Take Manhattan, The (1984)</td>\n",
              "      <td>Children|Comedy|Musical</td>\n",
              "    </tr>\n",
              "    <tr>\n",
              "      <th>2</th>\n",
              "      <td>151</td>\n",
              "      <td>Rob Roy (1995)</td>\n",
              "      <td>Action|Drama|Romance|War</td>\n",
              "    </tr>\n",
              "    <tr>\n",
              "      <th>3</th>\n",
              "      <td>4047</td>\n",
              "      <td>Gettysburg (1993)</td>\n",
              "      <td>Drama|War</td>\n",
              "    </tr>\n",
              "    <tr>\n",
              "      <th>4</th>\n",
              "      <td>25</td>\n",
              "      <td>Leaving Las Vegas (1995)</td>\n",
              "      <td>Drama|Romance</td>\n",
              "    </tr>\n",
              "    <tr>\n",
              "      <th>5</th>\n",
              "      <td>48342</td>\n",
              "      <td>Conversations with Other Women (2005)</td>\n",
              "      <td>Comedy|Drama|Romance</td>\n",
              "    </tr>\n",
              "    <tr>\n",
              "      <th>6</th>\n",
              "      <td>482</td>\n",
              "      <td>Killing Zoe (1994)</td>\n",
              "      <td>Crime|Drama|Thriller</td>\n",
              "    </tr>\n",
              "    <tr>\n",
              "      <th>7</th>\n",
              "      <td>160567</td>\n",
              "      <td>Mike &amp; Dave Need Wedding Dates (2016)</td>\n",
              "      <td>Comedy</td>\n",
              "    </tr>\n",
              "    <tr>\n",
              "      <th>8</th>\n",
              "      <td>900</td>\n",
              "      <td>American in Paris, An (1951)</td>\n",
              "      <td>Musical|Romance</td>\n",
              "    </tr>\n",
              "    <tr>\n",
              "      <th>9</th>\n",
              "      <td>37720</td>\n",
              "      <td>Exorcism of Emily Rose, The (2005)</td>\n",
              "      <td>Crime|Drama|Horror|Thriller</td>\n",
              "    </tr>\n",
              "  </tbody>\n",
              "</table>\n",
              "</div>\n",
              "      <button class=\"colab-df-convert\" onclick=\"convertToInteractive('df-01a39460-c9df-4219-a671-f4f3e333a77d')\"\n",
              "              title=\"Convert this dataframe to an interactive table.\"\n",
              "              style=\"display:none;\">\n",
              "        \n",
              "  <svg xmlns=\"http://www.w3.org/2000/svg\" height=\"24px\"viewBox=\"0 0 24 24\"\n",
              "       width=\"24px\">\n",
              "    <path d=\"M0 0h24v24H0V0z\" fill=\"none\"/>\n",
              "    <path d=\"M18.56 5.44l.94 2.06.94-2.06 2.06-.94-2.06-.94-.94-2.06-.94 2.06-2.06.94zm-11 1L8.5 8.5l.94-2.06 2.06-.94-2.06-.94L8.5 2.5l-.94 2.06-2.06.94zm10 10l.94 2.06.94-2.06 2.06-.94-2.06-.94-.94-2.06-.94 2.06-2.06.94z\"/><path d=\"M17.41 7.96l-1.37-1.37c-.4-.4-.92-.59-1.43-.59-.52 0-1.04.2-1.43.59L10.3 9.45l-7.72 7.72c-.78.78-.78 2.05 0 2.83L4 21.41c.39.39.9.59 1.41.59.51 0 1.02-.2 1.41-.59l7.78-7.78 2.81-2.81c.8-.78.8-2.07 0-2.86zM5.41 20L4 18.59l7.72-7.72 1.47 1.35L5.41 20z\"/>\n",
              "  </svg>\n",
              "      </button>\n",
              "      \n",
              "  <style>\n",
              "    .colab-df-container {\n",
              "      display:flex;\n",
              "      flex-wrap:wrap;\n",
              "      gap: 12px;\n",
              "    }\n",
              "\n",
              "    .colab-df-convert {\n",
              "      background-color: #E8F0FE;\n",
              "      border: none;\n",
              "      border-radius: 50%;\n",
              "      cursor: pointer;\n",
              "      display: none;\n",
              "      fill: #1967D2;\n",
              "      height: 32px;\n",
              "      padding: 0 0 0 0;\n",
              "      width: 32px;\n",
              "    }\n",
              "\n",
              "    .colab-df-convert:hover {\n",
              "      background-color: #E2EBFA;\n",
              "      box-shadow: 0px 1px 2px rgba(60, 64, 67, 0.3), 0px 1px 3px 1px rgba(60, 64, 67, 0.15);\n",
              "      fill: #174EA6;\n",
              "    }\n",
              "\n",
              "    [theme=dark] .colab-df-convert {\n",
              "      background-color: #3B4455;\n",
              "      fill: #D2E3FC;\n",
              "    }\n",
              "\n",
              "    [theme=dark] .colab-df-convert:hover {\n",
              "      background-color: #434B5C;\n",
              "      box-shadow: 0px 1px 3px 1px rgba(0, 0, 0, 0.15);\n",
              "      filter: drop-shadow(0px 1px 2px rgba(0, 0, 0, 0.3));\n",
              "      fill: #FFFFFF;\n",
              "    }\n",
              "  </style>\n",
              "\n",
              "      <script>\n",
              "        const buttonEl =\n",
              "          document.querySelector('#df-01a39460-c9df-4219-a671-f4f3e333a77d button.colab-df-convert');\n",
              "        buttonEl.style.display =\n",
              "          google.colab.kernel.accessAllowed ? 'block' : 'none';\n",
              "\n",
              "        async function convertToInteractive(key) {\n",
              "          const element = document.querySelector('#df-01a39460-c9df-4219-a671-f4f3e333a77d');\n",
              "          const dataTable =\n",
              "            await google.colab.kernel.invokeFunction('convertToInteractive',\n",
              "                                                     [key], {});\n",
              "          if (!dataTable) return;\n",
              "\n",
              "          const docLinkHtml = 'Like what you see? Visit the ' +\n",
              "            '<a target=\"_blank\" href=https://colab.research.google.com/notebooks/data_table.ipynb>data table notebook</a>'\n",
              "            + ' to learn more about interactive tables.';\n",
              "          element.innerHTML = '';\n",
              "          dataTable['output_type'] = 'display_data';\n",
              "          await google.colab.output.renderOutput(dataTable, element);\n",
              "          const docLink = document.createElement('div');\n",
              "          docLink.innerHTML = docLinkHtml;\n",
              "          element.appendChild(docLink);\n",
              "        }\n",
              "      </script>\n",
              "    </div>\n",
              "  </div>\n",
              "  "
            ]
          },
          "metadata": {},
          "execution_count": 55
        }
      ]
    },
    {
      "cell_type": "code",
      "metadata": {
        "id": "aungVZ69aprF",
        "colab": {
          "base_uri": "https://localhost:8080/",
          "height": 381
        },
        "outputId": "b94ca9d0-f615-43d5-dd58-6e6459f131dd"
      },
      "source": [
        "print('Similar movies based on euclidean distance matrix are as follows.')\n",
        "similarMovies(471, 'euclidean_distance')"
      ],
      "execution_count": null,
      "outputs": [
        {
          "output_type": "stream",
          "name": "stdout",
          "text": [
            "Similar movies based on euclidean distance matrix are as follows.\n"
          ]
        },
        {
          "output_type": "execute_result",
          "data": {
            "text/plain": [
              "  movieId                                        title  \\\n",
              "0    5782  Professional, The (Le professionnel) (1981)   \n",
              "1     151                               Rob Roy (1995)   \n",
              "2    4047                            Gettysburg (1993)   \n",
              "3      25                     Leaving Las Vegas (1995)   \n",
              "4  160567        Mike & Dave Need Wedding Dates (2016)   \n",
              "5   48342        Conversations with Other Women (2005)   \n",
              "6    3398           Muppets Take Manhattan, The (1984)   \n",
              "7    1124                        On Golden Pond (1981)   \n",
              "8   62849                            RocknRolla (2008)   \n",
              "9     482                           Killing Zoe (1994)   \n",
              "\n",
              "                     genres  \n",
              "0     Action|Drama|Thriller  \n",
              "1  Action|Drama|Romance|War  \n",
              "2                 Drama|War  \n",
              "3             Drama|Romance  \n",
              "4                    Comedy  \n",
              "5      Comedy|Drama|Romance  \n",
              "6   Children|Comedy|Musical  \n",
              "7                     Drama  \n",
              "8              Action|Crime  \n",
              "9      Crime|Drama|Thriller  "
            ],
            "text/html": [
              "\n",
              "  <div id=\"df-068748ce-a2a2-4b2c-81bd-181e3539c6c6\">\n",
              "    <div class=\"colab-df-container\">\n",
              "      <div>\n",
              "<style scoped>\n",
              "    .dataframe tbody tr th:only-of-type {\n",
              "        vertical-align: middle;\n",
              "    }\n",
              "\n",
              "    .dataframe tbody tr th {\n",
              "        vertical-align: top;\n",
              "    }\n",
              "\n",
              "    .dataframe thead th {\n",
              "        text-align: right;\n",
              "    }\n",
              "</style>\n",
              "<table border=\"1\" class=\"dataframe\">\n",
              "  <thead>\n",
              "    <tr style=\"text-align: right;\">\n",
              "      <th></th>\n",
              "      <th>movieId</th>\n",
              "      <th>title</th>\n",
              "      <th>genres</th>\n",
              "    </tr>\n",
              "  </thead>\n",
              "  <tbody>\n",
              "    <tr>\n",
              "      <th>0</th>\n",
              "      <td>5782</td>\n",
              "      <td>Professional, The (Le professionnel) (1981)</td>\n",
              "      <td>Action|Drama|Thriller</td>\n",
              "    </tr>\n",
              "    <tr>\n",
              "      <th>1</th>\n",
              "      <td>151</td>\n",
              "      <td>Rob Roy (1995)</td>\n",
              "      <td>Action|Drama|Romance|War</td>\n",
              "    </tr>\n",
              "    <tr>\n",
              "      <th>2</th>\n",
              "      <td>4047</td>\n",
              "      <td>Gettysburg (1993)</td>\n",
              "      <td>Drama|War</td>\n",
              "    </tr>\n",
              "    <tr>\n",
              "      <th>3</th>\n",
              "      <td>25</td>\n",
              "      <td>Leaving Las Vegas (1995)</td>\n",
              "      <td>Drama|Romance</td>\n",
              "    </tr>\n",
              "    <tr>\n",
              "      <th>4</th>\n",
              "      <td>160567</td>\n",
              "      <td>Mike &amp; Dave Need Wedding Dates (2016)</td>\n",
              "      <td>Comedy</td>\n",
              "    </tr>\n",
              "    <tr>\n",
              "      <th>5</th>\n",
              "      <td>48342</td>\n",
              "      <td>Conversations with Other Women (2005)</td>\n",
              "      <td>Comedy|Drama|Romance</td>\n",
              "    </tr>\n",
              "    <tr>\n",
              "      <th>6</th>\n",
              "      <td>3398</td>\n",
              "      <td>Muppets Take Manhattan, The (1984)</td>\n",
              "      <td>Children|Comedy|Musical</td>\n",
              "    </tr>\n",
              "    <tr>\n",
              "      <th>7</th>\n",
              "      <td>1124</td>\n",
              "      <td>On Golden Pond (1981)</td>\n",
              "      <td>Drama</td>\n",
              "    </tr>\n",
              "    <tr>\n",
              "      <th>8</th>\n",
              "      <td>62849</td>\n",
              "      <td>RocknRolla (2008)</td>\n",
              "      <td>Action|Crime</td>\n",
              "    </tr>\n",
              "    <tr>\n",
              "      <th>9</th>\n",
              "      <td>482</td>\n",
              "      <td>Killing Zoe (1994)</td>\n",
              "      <td>Crime|Drama|Thriller</td>\n",
              "    </tr>\n",
              "  </tbody>\n",
              "</table>\n",
              "</div>\n",
              "      <button class=\"colab-df-convert\" onclick=\"convertToInteractive('df-068748ce-a2a2-4b2c-81bd-181e3539c6c6')\"\n",
              "              title=\"Convert this dataframe to an interactive table.\"\n",
              "              style=\"display:none;\">\n",
              "        \n",
              "  <svg xmlns=\"http://www.w3.org/2000/svg\" height=\"24px\"viewBox=\"0 0 24 24\"\n",
              "       width=\"24px\">\n",
              "    <path d=\"M0 0h24v24H0V0z\" fill=\"none\"/>\n",
              "    <path d=\"M18.56 5.44l.94 2.06.94-2.06 2.06-.94-2.06-.94-.94-2.06-.94 2.06-2.06.94zm-11 1L8.5 8.5l.94-2.06 2.06-.94-2.06-.94L8.5 2.5l-.94 2.06-2.06.94zm10 10l.94 2.06.94-2.06 2.06-.94-2.06-.94-.94-2.06-.94 2.06-2.06.94z\"/><path d=\"M17.41 7.96l-1.37-1.37c-.4-.4-.92-.59-1.43-.59-.52 0-1.04.2-1.43.59L10.3 9.45l-7.72 7.72c-.78.78-.78 2.05 0 2.83L4 21.41c.39.39.9.59 1.41.59.51 0 1.02-.2 1.41-.59l7.78-7.78 2.81-2.81c.8-.78.8-2.07 0-2.86zM5.41 20L4 18.59l7.72-7.72 1.47 1.35L5.41 20z\"/>\n",
              "  </svg>\n",
              "      </button>\n",
              "      \n",
              "  <style>\n",
              "    .colab-df-container {\n",
              "      display:flex;\n",
              "      flex-wrap:wrap;\n",
              "      gap: 12px;\n",
              "    }\n",
              "\n",
              "    .colab-df-convert {\n",
              "      background-color: #E8F0FE;\n",
              "      border: none;\n",
              "      border-radius: 50%;\n",
              "      cursor: pointer;\n",
              "      display: none;\n",
              "      fill: #1967D2;\n",
              "      height: 32px;\n",
              "      padding: 0 0 0 0;\n",
              "      width: 32px;\n",
              "    }\n",
              "\n",
              "    .colab-df-convert:hover {\n",
              "      background-color: #E2EBFA;\n",
              "      box-shadow: 0px 1px 2px rgba(60, 64, 67, 0.3), 0px 1px 3px 1px rgba(60, 64, 67, 0.15);\n",
              "      fill: #174EA6;\n",
              "    }\n",
              "\n",
              "    [theme=dark] .colab-df-convert {\n",
              "      background-color: #3B4455;\n",
              "      fill: #D2E3FC;\n",
              "    }\n",
              "\n",
              "    [theme=dark] .colab-df-convert:hover {\n",
              "      background-color: #434B5C;\n",
              "      box-shadow: 0px 1px 3px 1px rgba(0, 0, 0, 0.15);\n",
              "      filter: drop-shadow(0px 1px 2px rgba(0, 0, 0, 0.3));\n",
              "      fill: #FFFFFF;\n",
              "    }\n",
              "  </style>\n",
              "\n",
              "      <script>\n",
              "        const buttonEl =\n",
              "          document.querySelector('#df-068748ce-a2a2-4b2c-81bd-181e3539c6c6 button.colab-df-convert');\n",
              "        buttonEl.style.display =\n",
              "          google.colab.kernel.accessAllowed ? 'block' : 'none';\n",
              "\n",
              "        async function convertToInteractive(key) {\n",
              "          const element = document.querySelector('#df-068748ce-a2a2-4b2c-81bd-181e3539c6c6');\n",
              "          const dataTable =\n",
              "            await google.colab.kernel.invokeFunction('convertToInteractive',\n",
              "                                                     [key], {});\n",
              "          if (!dataTable) return;\n",
              "\n",
              "          const docLinkHtml = 'Like what you see? Visit the ' +\n",
              "            '<a target=\"_blank\" href=https://colab.research.google.com/notebooks/data_table.ipynb>data table notebook</a>'\n",
              "            + ' to learn more about interactive tables.';\n",
              "          element.innerHTML = '';\n",
              "          dataTable['output_type'] = 'display_data';\n",
              "          await google.colab.output.renderOutput(dataTable, element);\n",
              "          const docLink = document.createElement('div');\n",
              "          docLink.innerHTML = docLinkHtml;\n",
              "          element.appendChild(docLink);\n",
              "        }\n",
              "      </script>\n",
              "    </div>\n",
              "  </div>\n",
              "  "
            ]
          },
          "metadata": {},
          "execution_count": 56
        }
      ]
    },
    {
      "cell_type": "markdown",
      "metadata": {
        "id": "5EOJJGsL59J_"
      },
      "source": [
        "# Write the report \n",
        "**motivation:** As artificial intelligence pervails in internet industry, more and more ecommerce platforms start to characterize their recommendation systems in order to provide better service. Collaborative filtering is one of the most popular recommendation algorithm which can be implemented with Alternating Least Squares (ALS) model in Spark ML. It would be a interesting and significant attempt to create a movie recommender for movie rating sites users.\n",
        "\n",
        "**step1. Data ETL and Data Exploration**\n",
        "\n",
        "I firstly loaded the rating data, established corresponding spark dataframes and checked out the basic information of the dataset.\n",
        "\n",
        "**step2. Online Analytical Processing**\n",
        "\n",
        "I performed analysis on the dataset from multi angle and gained some intuitive insights.\n",
        "\n",
        "**step3. Model Selection**\n",
        "\n",
        "I built up the ALS model and tuned the hyperparameter using 5-fold cross-validation, applying the optimal hyperparameters on the best final model.\n",
        "\n",
        "**step4. Model Evaluation**\n",
        "\n",
        "Finally, I evaluated the recommendation model by measuring the root-mean-square error of rating prediction on the testset. \n",
        "\n",
        "**step5. Model Application: Recommend moive to users**\n",
        "\n",
        "For given users, I wrote a function to dirctly recommend 10 movies which they may be interested in based on the model.\n",
        "\n",
        "**step6. Model Application: Find the similar moives**\n",
        "\n",
        "I also applid the ALS results on finding the similar moives for a given movie. I used two matrix to evaluate the similarity between movies: cosine similarity and euclidean distance, which can be used sperately depends on situations.\n",
        "\n",
        "**Output and Conclusion**\n",
        "\n",
        "In this project, I built a ALS model with Spark APIs based on MovieLens dataset, predicted the ratings for the movies and made specific recommendation to users accordingly. The RMSE of the best model is approximately 0.88."
      ]
    }
  ]
}